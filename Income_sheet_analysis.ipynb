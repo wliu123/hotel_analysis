{
 "cells": [
  {
   "cell_type": "code",
   "execution_count": 16,
   "id": "2dff0e03-7f0c-4dce-b9c3-bee81552c6e9",
   "metadata": {},
   "outputs": [],
   "source": [
    "import pandas as pd\n",
    "from datetime import date"
   ]
  },
  {
   "cell_type": "code",
   "execution_count": 20,
   "id": "ae5d889e-c3e5-49da-be1e-a157f7491df9",
   "metadata": {},
   "outputs": [],
   "source": [
    "last_fy = date.today().year - 1\n",
    "prev_prev_fy = date.today().year - 2"
   ]
  },
  {
   "cell_type": "code",
   "execution_count": 18,
   "id": "9e304f32-577a-4f1c-8147-3e1aba1d3995",
   "metadata": {},
   "outputs": [
    {
     "name": "stdout",
     "output_type": "stream",
     "text": [
      "2022\n"
     ]
    }
   ],
   "source": [
    "print(last_yr)"
   ]
  },
  {
   "cell_type": "code",
   "execution_count": 52,
   "id": "9e8d2ce2-34bf-44d4-99c2-ba94c3b8d77e",
   "metadata": {},
   "outputs": [
    {
     "name": "stdout",
     "output_type": "stream",
     "text": [
      "{'Unnamed: 0': 'metric_type', '12 months ended Dec 31, 2022': '2022 Totals', 'Percentage': 'Perc of 2022', '12 months ended Dec 31, 2021': '2021 Totals', 'Percentage.1': 'Perc of 2021'}\n"
     ]
    }
   ],
   "source": [
    "modcols = {\n",
    "    'Unnamed: 0' : 'metric_type',\n",
    "    f\"12 months ended Dec 31, {last_fy}\" : f\"{last_fy} Totals\",\n",
    "    'Percentage' : f\"Perc of {last_fy}\",\n",
    "    f\"12 months ended Dec 31, {prev_prev_fy}\" : f\"{prev_prev_fy} Totals\",\n",
    "    'Percentage.1' : f\"Perc of {prev_prev_fy}\"\n",
    "}\n",
    "print(modcols)\n",
    "# usecols = f\"id, metric_type, {last_fy} Totals, Perc of {last_fy}, {prev_prev_fy} Totals, Perc of {prev_prev_fy}\"\n",
    "# formatCols = usecols.split(\",\")"
   ]
  },
  {
   "cell_type": "code",
   "execution_count": 43,
   "id": "f517f396-6e4b-4a9e-9684-4b079efadbde",
   "metadata": {},
   "outputs": [
    {
     "name": "stdout",
     "output_type": "stream",
     "text": [
      "['id', ' metric_type', ' 2022 Totals', ' Perc of 2022', ' 2021 Totals', ' Perc of 2021']\n"
     ]
    }
   ],
   "source": [
    "print(formatCols)"
   ]
  },
  {
   "cell_type": "code",
   "execution_count": 50,
   "id": "a0fb981e-e860-43ce-8655-59f87deba727",
   "metadata": {},
   "outputs": [],
   "source": [
    "df = pd.read_csv(\"data/bwp_2022_income.csv\")"
   ]
  },
  {
   "cell_type": "code",
   "execution_count": 51,
   "id": "bf736071-18bf-48c4-b254-f106a12d48e9",
   "metadata": {},
   "outputs": [
    {
     "data": {
      "text/html": [
       "<div>\n",
       "<style scoped>\n",
       "    .dataframe tbody tr th:only-of-type {\n",
       "        vertical-align: middle;\n",
       "    }\n",
       "\n",
       "    .dataframe tbody tr th {\n",
       "        vertical-align: top;\n",
       "    }\n",
       "\n",
       "    .dataframe thead th {\n",
       "        text-align: right;\n",
       "    }\n",
       "</style>\n",
       "<table border=\"1\" class=\"dataframe\">\n",
       "  <thead>\n",
       "    <tr style=\"text-align: right;\">\n",
       "      <th></th>\n",
       "      <th>Unnamed: 0</th>\n",
       "      <th>12 months ended Dec 31, 2022</th>\n",
       "      <th>Percentage</th>\n",
       "      <th>12 months ended Dec 31, 2021</th>\n",
       "      <th>Percentage.1</th>\n",
       "    </tr>\n",
       "  </thead>\n",
       "  <tbody>\n",
       "    <tr>\n",
       "      <th>0</th>\n",
       "      <td>Revenue</td>\n",
       "      <td>NaN</td>\n",
       "      <td>NaN</td>\n",
       "      <td>NaN</td>\n",
       "      <td>NaN</td>\n",
       "    </tr>\n",
       "    <tr>\n",
       "      <th>1</th>\n",
       "      <td>MEETING ROOM RENTAL</td>\n",
       "      <td>69576.03</td>\n",
       "      <td>1.42</td>\n",
       "      <td>19399.03</td>\n",
       "      <td>0.43</td>\n",
       "    </tr>\n",
       "    <tr>\n",
       "      <th>2</th>\n",
       "      <td>ROOM RENTAL</td>\n",
       "      <td>4819339.23</td>\n",
       "      <td>98.66</td>\n",
       "      <td>4499654.34</td>\n",
       "      <td>100.28</td>\n",
       "    </tr>\n",
       "    <tr>\n",
       "      <th>3</th>\n",
       "      <td>REFUND</td>\n",
       "      <td>-4232.17</td>\n",
       "      <td>-0.09</td>\n",
       "      <td>-32169.78</td>\n",
       "      <td>-0.72</td>\n",
       "    </tr>\n",
       "    <tr>\n",
       "      <th>4</th>\n",
       "      <td>Total Revenue</td>\n",
       "      <td>4884683.09</td>\n",
       "      <td>99.99</td>\n",
       "      <td>4486883.59</td>\n",
       "      <td>99.99</td>\n",
       "    </tr>\n",
       "  </tbody>\n",
       "</table>\n",
       "</div>"
      ],
      "text/plain": [
       "            Unnamed: 0  12 months ended Dec 31, 2022  Percentage  \\\n",
       "0              Revenue                           NaN         NaN   \n",
       "1  MEETING ROOM RENTAL                      69576.03        1.42   \n",
       "2          ROOM RENTAL                    4819339.23       98.66   \n",
       "3               REFUND                      -4232.17       -0.09   \n",
       "4        Total Revenue                    4884683.09       99.99   \n",
       "\n",
       "   12 months ended Dec 31, 2021  Percentage.1  \n",
       "0                           NaN           NaN  \n",
       "1                      19399.03          0.43  \n",
       "2                    4499654.34        100.28  \n",
       "3                     -32169.78         -0.72  \n",
       "4                    4486883.59         99.99  "
      ]
     },
     "execution_count": 51,
     "metadata": {},
     "output_type": "execute_result"
    }
   ],
   "source": [
    "df.head()"
   ]
  },
  {
   "cell_type": "code",
   "execution_count": 53,
   "id": "565c975a-eb8e-45aa-9f89-bf7a2f24771a",
   "metadata": {},
   "outputs": [],
   "source": [
    "df = df.rename(columns = modcols)"
   ]
  },
  {
   "cell_type": "code",
   "execution_count": 54,
   "id": "2f24c773-e726-463b-9dd3-b15e7985c5d7",
   "metadata": {},
   "outputs": [
    {
     "data": {
      "text/html": [
       "<div>\n",
       "<style scoped>\n",
       "    .dataframe tbody tr th:only-of-type {\n",
       "        vertical-align: middle;\n",
       "    }\n",
       "\n",
       "    .dataframe tbody tr th {\n",
       "        vertical-align: top;\n",
       "    }\n",
       "\n",
       "    .dataframe thead th {\n",
       "        text-align: right;\n",
       "    }\n",
       "</style>\n",
       "<table border=\"1\" class=\"dataframe\">\n",
       "  <thead>\n",
       "    <tr style=\"text-align: right;\">\n",
       "      <th></th>\n",
       "      <th>metric_type</th>\n",
       "      <th>2022 Totals</th>\n",
       "      <th>Perc of 2022</th>\n",
       "      <th>2021 Totals</th>\n",
       "      <th>Perc of 2021</th>\n",
       "    </tr>\n",
       "  </thead>\n",
       "  <tbody>\n",
       "    <tr>\n",
       "      <th>0</th>\n",
       "      <td>Revenue</td>\n",
       "      <td>NaN</td>\n",
       "      <td>NaN</td>\n",
       "      <td>NaN</td>\n",
       "      <td>NaN</td>\n",
       "    </tr>\n",
       "    <tr>\n",
       "      <th>1</th>\n",
       "      <td>MEETING ROOM RENTAL</td>\n",
       "      <td>69576.03</td>\n",
       "      <td>1.42</td>\n",
       "      <td>19399.03</td>\n",
       "      <td>0.43</td>\n",
       "    </tr>\n",
       "    <tr>\n",
       "      <th>2</th>\n",
       "      <td>ROOM RENTAL</td>\n",
       "      <td>4819339.23</td>\n",
       "      <td>98.66</td>\n",
       "      <td>4499654.34</td>\n",
       "      <td>100.28</td>\n",
       "    </tr>\n",
       "    <tr>\n",
       "      <th>3</th>\n",
       "      <td>REFUND</td>\n",
       "      <td>-4232.17</td>\n",
       "      <td>-0.09</td>\n",
       "      <td>-32169.78</td>\n",
       "      <td>-0.72</td>\n",
       "    </tr>\n",
       "    <tr>\n",
       "      <th>4</th>\n",
       "      <td>Total Revenue</td>\n",
       "      <td>4884683.09</td>\n",
       "      <td>99.99</td>\n",
       "      <td>4486883.59</td>\n",
       "      <td>99.99</td>\n",
       "    </tr>\n",
       "  </tbody>\n",
       "</table>\n",
       "</div>"
      ],
      "text/plain": [
       "           metric_type  2022 Totals  Perc of 2022  2021 Totals  Perc of 2021\n",
       "0              Revenue          NaN           NaN          NaN           NaN\n",
       "1  MEETING ROOM RENTAL     69576.03          1.42     19399.03          0.43\n",
       "2          ROOM RENTAL   4819339.23         98.66   4499654.34        100.28\n",
       "3               REFUND     -4232.17         -0.09    -32169.78         -0.72\n",
       "4        Total Revenue   4884683.09         99.99   4486883.59         99.99"
      ]
     },
     "execution_count": 54,
     "metadata": {},
     "output_type": "execute_result"
    }
   ],
   "source": [
    "df.head()"
   ]
  },
  {
   "cell_type": "code",
   "execution_count": 55,
   "id": "12a6cce9-4994-4e3f-95d2-08cc215798ad",
   "metadata": {},
   "outputs": [
    {
     "data": {
      "text/html": [
       "<div>\n",
       "<style scoped>\n",
       "    .dataframe tbody tr th:only-of-type {\n",
       "        vertical-align: middle;\n",
       "    }\n",
       "\n",
       "    .dataframe tbody tr th {\n",
       "        vertical-align: top;\n",
       "    }\n",
       "\n",
       "    .dataframe thead th {\n",
       "        text-align: right;\n",
       "    }\n",
       "</style>\n",
       "<table border=\"1\" class=\"dataframe\">\n",
       "  <thead>\n",
       "    <tr style=\"text-align: right;\">\n",
       "      <th></th>\n",
       "      <th>metric_type</th>\n",
       "      <th>2022 Totals</th>\n",
       "      <th>Perc of 2022</th>\n",
       "      <th>2021 Totals</th>\n",
       "      <th>Perc of 2021</th>\n",
       "    </tr>\n",
       "  </thead>\n",
       "  <tbody>\n",
       "    <tr>\n",
       "      <th>0</th>\n",
       "      <td>Revenue</td>\n",
       "      <td>69576.03</td>\n",
       "      <td>1.42</td>\n",
       "      <td>19399.03</td>\n",
       "      <td>0.43</td>\n",
       "    </tr>\n",
       "    <tr>\n",
       "      <th>1</th>\n",
       "      <td>MEETING ROOM RENTAL</td>\n",
       "      <td>4819339.23</td>\n",
       "      <td>98.66</td>\n",
       "      <td>4499654.34</td>\n",
       "      <td>100.28</td>\n",
       "    </tr>\n",
       "    <tr>\n",
       "      <th>2</th>\n",
       "      <td>ROOM RENTAL</td>\n",
       "      <td>-4232.17</td>\n",
       "      <td>-0.09</td>\n",
       "      <td>-32169.78</td>\n",
       "      <td>-0.72</td>\n",
       "    </tr>\n",
       "    <tr>\n",
       "      <th>3</th>\n",
       "      <td>REFUND</td>\n",
       "      <td>4884683.09</td>\n",
       "      <td>99.99</td>\n",
       "      <td>4486883.59</td>\n",
       "      <td>99.99</td>\n",
       "    </tr>\n",
       "    <tr>\n",
       "      <th>4</th>\n",
       "      <td>Total Revenue</td>\n",
       "      <td>164188.66</td>\n",
       "      <td>3.36</td>\n",
       "      <td>140538.56</td>\n",
       "      <td>3.13</td>\n",
       "    </tr>\n",
       "  </tbody>\n",
       "</table>\n",
       "</div>"
      ],
      "text/plain": [
       "           metric_type  2022 Totals  Perc of 2022  2021 Totals  Perc of 2021\n",
       "0              Revenue     69576.03          1.42     19399.03          0.43\n",
       "1  MEETING ROOM RENTAL   4819339.23         98.66   4499654.34        100.28\n",
       "2          ROOM RENTAL     -4232.17         -0.09    -32169.78         -0.72\n",
       "3               REFUND   4884683.09         99.99   4486883.59         99.99\n",
       "4        Total Revenue    164188.66          3.36    140538.56          3.13"
      ]
     },
     "execution_count": 55,
     "metadata": {},
     "output_type": "execute_result"
    }
   ],
   "source": [
    "df = df.apply(lambda x: pd.Series(x.dropna().values))\n",
    "df.head()"
   ]
  },
  {
   "cell_type": "code",
   "execution_count": 56,
   "id": "3ac7ca4f-072d-42f3-b3e5-ae362453bc95",
   "metadata": {},
   "outputs": [
    {
     "data": {
      "text/html": [
       "<div>\n",
       "<style scoped>\n",
       "    .dataframe tbody tr th:only-of-type {\n",
       "        vertical-align: middle;\n",
       "    }\n",
       "\n",
       "    .dataframe tbody tr th {\n",
       "        vertical-align: top;\n",
       "    }\n",
       "\n",
       "    .dataframe thead th {\n",
       "        text-align: right;\n",
       "    }\n",
       "</style>\n",
       "<table border=\"1\" class=\"dataframe\">\n",
       "  <thead>\n",
       "    <tr style=\"text-align: right;\">\n",
       "      <th></th>\n",
       "      <th>metric_type</th>\n",
       "      <th>2022 Totals</th>\n",
       "      <th>Perc of 2022</th>\n",
       "      <th>2021 Totals</th>\n",
       "      <th>Perc of 2021</th>\n",
       "    </tr>\n",
       "  </thead>\n",
       "  <tbody>\n",
       "    <tr>\n",
       "      <th>89</th>\n",
       "      <td>PENALTY</td>\n",
       "      <td>NaN</td>\n",
       "      <td>NaN</td>\n",
       "      <td>NaN</td>\n",
       "      <td>NaN</td>\n",
       "    </tr>\n",
       "    <tr>\n",
       "      <th>90</th>\n",
       "      <td>PROVISION FOR IN TAX-STATE</td>\n",
       "      <td>NaN</td>\n",
       "      <td>NaN</td>\n",
       "      <td>NaN</td>\n",
       "      <td>NaN</td>\n",
       "    </tr>\n",
       "    <tr>\n",
       "      <th>91</th>\n",
       "      <td>PROVISION FOR IN TAX-PTE</td>\n",
       "      <td>NaN</td>\n",
       "      <td>NaN</td>\n",
       "      <td>NaN</td>\n",
       "      <td>NaN</td>\n",
       "    </tr>\n",
       "    <tr>\n",
       "      <th>92</th>\n",
       "      <td>Total Other Income</td>\n",
       "      <td>NaN</td>\n",
       "      <td>NaN</td>\n",
       "      <td>NaN</td>\n",
       "      <td>NaN</td>\n",
       "    </tr>\n",
       "    <tr>\n",
       "      <th>93</th>\n",
       "      <td>Net Income (Loss)</td>\n",
       "      <td>NaN</td>\n",
       "      <td>NaN</td>\n",
       "      <td>NaN</td>\n",
       "      <td>NaN</td>\n",
       "    </tr>\n",
       "  </tbody>\n",
       "</table>\n",
       "</div>"
      ],
      "text/plain": [
       "                   metric_type  2022 Totals  Perc of 2022  2021 Totals  \\\n",
       "89                     PENALTY          NaN           NaN          NaN   \n",
       "90  PROVISION FOR IN TAX-STATE          NaN           NaN          NaN   \n",
       "91    PROVISION FOR IN TAX-PTE          NaN           NaN          NaN   \n",
       "92          Total Other Income          NaN           NaN          NaN   \n",
       "93           Net Income (Loss)          NaN           NaN          NaN   \n",
       "\n",
       "    Perc of 2021  \n",
       "89           NaN  \n",
       "90           NaN  \n",
       "91           NaN  \n",
       "92           NaN  \n",
       "93           NaN  "
      ]
     },
     "execution_count": 56,
     "metadata": {},
     "output_type": "execute_result"
    }
   ],
   "source": [
    "df.tail()\n"
   ]
  },
  {
   "cell_type": "code",
   "execution_count": null,
   "id": "7aa76ea9-0a22-41c2-b901-271de3ede3f9",
   "metadata": {},
   "outputs": [],
   "source": []
  }
 ],
 "metadata": {
  "kernelspec": {
   "display_name": "Python 3 (ipykernel)",
   "language": "python",
   "name": "python3"
  },
  "language_info": {
   "codemirror_mode": {
    "name": "ipython",
    "version": 3
   },
   "file_extension": ".py",
   "mimetype": "text/x-python",
   "name": "python",
   "nbconvert_exporter": "python",
   "pygments_lexer": "ipython3",
   "version": "3.10.5"
  }
 },
 "nbformat": 4,
 "nbformat_minor": 5
}
