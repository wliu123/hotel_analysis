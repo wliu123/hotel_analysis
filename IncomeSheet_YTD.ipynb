{
 "cells": [
  {
   "cell_type": "code",
   "execution_count": 55,
   "id": "3f814c14-f485-4879-af20-342cfd680fc6",
   "metadata": {},
   "outputs": [],
   "source": [
    "import pandas as pd\n",
    "from datetime import date, datetime\n",
    "import numpy as np\n",
    "import matplotlib.pyplot as plt\n",
    "import plotly.express as px\n",
    "from plotly.subplots import make_subplots\n",
    "import plotly.graph_objects as go\n",
    "import os\n",
    "import glob"
   ]
  },
  {
   "cell_type": "code",
   "execution_count": 56,
   "id": "015ec60c-be8d-4c74-855c-6a22110e7876",
   "metadata": {},
   "outputs": [
    {
     "name": "stdout",
     "output_type": "stream",
     "text": [
      "['data/YTD files/2023 Profit and Loss YTD.csv', 'data/YTD files/2023 Profit and Loss.csv']\n"
     ]
    }
   ],
   "source": [
    "file_path = \"data/YTD files\"\n",
    "csv_files = glob.glob(os.path.join(file_path, '*.csv'))\n",
    "print(csv_files)"
   ]
  },
  {
   "cell_type": "code",
   "execution_count": 57,
   "id": "3a2d616b-4c07-4d75-bd7b-4d797416ecfb",
   "metadata": {},
   "outputs": [],
   "source": [
    "latest_file = max(csv_files, key=os.path.getmtime)"
   ]
  },
  {
   "cell_type": "code",
   "execution_count": 58,
   "id": "89c1935e-6b29-4735-b1bc-bf958b287f6e",
   "metadata": {},
   "outputs": [],
   "source": [
    "df = pd.read_csv(latest_file, index_col = False)"
   ]
  },
  {
   "cell_type": "code",
   "execution_count": 59,
   "id": "b457fa8c-28e3-443a-ae17-ae2b84ae605f",
   "metadata": {},
   "outputs": [
    {
     "data": {
      "text/html": [
       "<div>\n",
       "<style scoped>\n",
       "    .dataframe tbody tr th:only-of-type {\n",
       "        vertical-align: middle;\n",
       "    }\n",
       "\n",
       "    .dataframe tbody tr th {\n",
       "        vertical-align: top;\n",
       "    }\n",
       "\n",
       "    .dataframe thead th {\n",
       "        text-align: right;\n",
       "    }\n",
       "</style>\n",
       "<table border=\"1\" class=\"dataframe\">\n",
       "  <thead>\n",
       "    <tr style=\"text-align: right;\">\n",
       "      <th></th>\n",
       "      <th>Unnamed: 0</th>\n",
       "      <th>Unnamed: 1</th>\n",
       "      <th>Unnamed: 2</th>\n",
       "      <th>Unnamed: 3</th>\n",
       "      <th>Unnamed: 4</th>\n",
       "    </tr>\n",
       "  </thead>\n",
       "  <tbody>\n",
       "    <tr>\n",
       "      <th>0</th>\n",
       "      <td>BJ WIN HOSPITALITY INC.</td>\n",
       "      <td>NaN</td>\n",
       "      <td>NaN</td>\n",
       "      <td>NaN</td>\n",
       "      <td>NaN</td>\n",
       "    </tr>\n",
       "    <tr>\n",
       "      <th>1</th>\n",
       "      <td>Profit and Loss</td>\n",
       "      <td>NaN</td>\n",
       "      <td>NaN</td>\n",
       "      <td>NaN</td>\n",
       "      <td>NaN</td>\n",
       "    </tr>\n",
       "    <tr>\n",
       "      <th>2</th>\n",
       "      <td>From January 1, 2023 to September 30, 2023</td>\n",
       "      <td>NaN</td>\n",
       "      <td>NaN</td>\n",
       "      <td>NaN</td>\n",
       "      <td>NaN</td>\n",
       "    </tr>\n",
       "    <tr>\n",
       "      <th>3</th>\n",
       "      <td>NaN</td>\n",
       "      <td>NaN</td>\n",
       "      <td>NaN</td>\n",
       "      <td>NaN</td>\n",
       "      <td>NaN</td>\n",
       "    </tr>\n",
       "    <tr>\n",
       "      <th>4</th>\n",
       "      <td>NaN</td>\n",
       "      <td>Year to Date</td>\n",
       "      <td>%</td>\n",
       "      <td>NaN</td>\n",
       "      <td>NaN</td>\n",
       "    </tr>\n",
       "  </tbody>\n",
       "</table>\n",
       "</div>"
      ],
      "text/plain": [
       "                                   Unnamed: 0    Unnamed: 1 Unnamed: 2  \\\n",
       "0                     BJ WIN HOSPITALITY INC.           NaN        NaN   \n",
       "1                             Profit and Loss           NaN        NaN   \n",
       "2  From January 1, 2023 to September 30, 2023           NaN        NaN   \n",
       "3                                         NaN           NaN        NaN   \n",
       "4                                         NaN  Year to Date          %   \n",
       "\n",
       "   Unnamed: 3  Unnamed: 4  \n",
       "0         NaN         NaN  \n",
       "1         NaN         NaN  \n",
       "2         NaN         NaN  \n",
       "3         NaN         NaN  \n",
       "4         NaN         NaN  "
      ]
     },
     "execution_count": 59,
     "metadata": {},
     "output_type": "execute_result"
    }
   ],
   "source": [
    "df.head()"
   ]
  },
  {
   "cell_type": "code",
   "execution_count": 60,
   "id": "5c6a1dad-ea44-4934-b4fe-a5fc2692a2ae",
   "metadata": {},
   "outputs": [
    {
     "name": "stdout",
     "output_type": "stream",
     "text": [
      "01/01/23-09/30/23\n"
     ]
    }
   ],
   "source": [
    "datestr = df.loc[2, 'Unnamed: 0']\n",
    "\n",
    "# datestr = datestr.lower().replace(',', '')\n",
    "split_date = datestr.split()\n",
    "\n",
    "from_date = ' '.join(split_date[1:4])\n",
    "input_from_date = datetime.strptime(from_date, \"%B %d, %Y\")\n",
    "formatted_from_date = input_from_date.strftime(\"%m/%d/%y\")\n",
    "\n",
    "to_date = ' '.join(split_date[5:8])\n",
    "input_to_date = datetime.strptime(to_date, \"%B %d, %Y\")\n",
    "formatted_to_date = input_to_date.strftime(\"%m/%d/%y\")\n",
    "\n",
    "date_range = formatted_from_date + '-' + formatted_to_date\n",
    "print(date_range)\n",
    "# print(split_date[1:4].append(split_date[5:7]))"
   ]
  },
  {
   "cell_type": "code",
   "execution_count": 61,
   "id": "21baac9f-a7a4-4047-825e-9062bbe5d4a3",
   "metadata": {},
   "outputs": [],
   "source": [
    "cols_to_remove = ['Unnamed: 3', 'Unnamed: 4']\n",
    "df = df.drop(columns = cols_to_remove)"
   ]
  },
  {
   "cell_type": "code",
   "execution_count": 62,
   "id": "b6892c6e-3048-4dac-af35-e226603db1ef",
   "metadata": {},
   "outputs": [],
   "source": [
    "modcols = {\n",
    "    'Unnamed: 0' : 'metric_type',\n",
    "    'Unnamed: 1' : date_range,\n",
    "    'Unnamed: 2' : 'percent',\n",
    "}\n",
    "\n",
    "df = df.rename(columns = modcols)"
   ]
  },
  {
   "cell_type": "code",
   "execution_count": 63,
   "id": "bff153bd-93a8-4754-8ccd-696b31e077c4",
   "metadata": {},
   "outputs": [],
   "source": [
    "df = df.dropna(axis=0)\n",
    "df = df.reset_index(drop=True)"
   ]
  },
  {
   "cell_type": "code",
   "execution_count": 64,
   "id": "4a920e52-2bcf-431d-a22d-9f1f18e92840",
   "metadata": {},
   "outputs": [
    {
     "name": "stdout",
     "output_type": "stream",
     "text": [
      "                    metric_type 01/01/23-09/30/23 percent\n",
      "0           MEETING ROOM RENTAL        $61,044.69    1.91\n",
      "1                   ROOM RENTAL      3,119,098.18   97.84\n",
      "2          MISCELLANEOUS INCOME            188.37    0.01\n",
      "3                        REFUND           (58.90)  (0.00)\n",
      "4                Total Revenues      3,180,272.34   99.76\n",
      "5              FRONT DESK CLERK        131,507.80    4.13\n",
      "6                   HOUSEKEEPER        314,144.22    9.85\n",
      "7               CAFE ATTENDANTS         68,689.23    2.15\n",
      "8                 PAYROLL TAXES         44,190.65    1.39\n",
      "9        WORKERS COMP INSURANCE         47,669.30    1.50\n",
      "10               LINEN PURCHASE         10,980.87    0.34\n",
      "11               GUEST SUPPLIES         52,542.72    1.65\n",
      "12             LAUNDRY SUPPLIES         10,772.95    0.34\n",
      "13     COMMISSION TRAVEL AGENTS        153,793.84    4.82\n",
      "14        CONTINENTAL BREAKFAST        102,546.06    3.22\n",
      "15          FRANCHISE ROYALTIES         64,044.77    2.01\n",
      "16                   REWARD FEE         59,942.68    1.88\n",
      "17      CREDIT CARD COMMISSIONS         82,319.42    2.58\n",
      "18        MAINTENANCE  SALARIES         35,994.00    1.13\n",
      "19  PAYROLL TAXES - Maintenance          2,914.51    0.09\n",
      "20                 PEST CONTROL          8,443.25    0.26\n",
      "21   EQUIPMENT REPAIR - GENERAL         16,193.62    0.51\n",
      "22                FIRE & SAFETY            896.36    0.03\n",
      "23                SWIMMING POOL          7,450.00    0.23\n",
      "24     MAINTENANCE & SERV AGRMT          9,037.72    0.28\n",
      "25             SECURITY EXPENSE          1,420.96    0.04\n",
      "26                     PLUMBING          1,495.61    0.05\n",
      "27                    ELEVATORS          4,803.36    0.15\n",
      "28         LANDSCAPING/EXTERIOR         18,400.00    0.58\n",
      "29        TRASH & WASTE REMOVAL         11,240.96    0.35\n",
      "30         MAINTENANCE SUPPLIES         14,496.35    0.45\n",
      "31  MISCELLANEOUS - MAINTENANCE            869.00    0.03\n",
      "32                        WATER         15,918.79    0.50\n",
      "33                          GAS         43,877.84    1.38\n",
      "34                  ELECTRICITY        122,582.22    3.85\n",
      "35          Total Cost of Sales      1,459,179.06   45.77\n",
      "36                 Gross Profit      1,721,093.28   53.99\n",
      "37            OFFICERS SALARIES        184,166.78    5.78\n",
      "38      ADMINISTRATIVE SALARIES        167,948.23    5.27\n",
      "39                PAYROLL TAXES         27,741.71    0.87\n",
      "40         COMMERCIAL INSURANCE        125,447.19    3.94\n",
      "41              OFFICE SUPPLIES          6,511.20    0.20\n",
      "42             LICENSES/PERMITS          5,133.06    0.16\n",
      "43          EDUCATION & SEMINAR          1,313.00    0.04\n",
      "44           TEMPORARY EMPLOYEE          2,448.00    0.08\n",
      "45               TRAVEL EXPENSE         23,281.69    0.73\n",
      "46                ENTERTAINMENT         13,313.68    0.42\n",
      "47                    TELEPHONE         11,870.02    0.37\n",
      "48          INTERNET & COMPUTER         75,913.36    2.38\n",
      "49         EMPLOYEE RECRUITMENT            521.96    0.02\n",
      "50         PAYROLL SERVICE FEES          7,090.10    0.22\n",
      "51         BANK SERVICE CHARGES            331.38    0.01\n",
      "52         MEMBERSHIP DUES/FEES          7,349.63    0.23\n",
      "53               MANAGEMENT FEE        110,000.00    3.45\n",
      "54        GASOLINE/AUTO EXPENSE          4,747.86    0.15\n",
      "55               PROPERTY TAXES         19,032.39    0.60\n",
      "56    LEGAL & PROFESSIONAL FEES         17,734.00    0.56\n",
      "57                     DONATION            680.00    0.02\n",
      "58                  OTHER TAXES          6,250.82    0.20\n",
      "59             BUILDING REPAIRS          1,000.00    0.03\n",
      "60  ADVERTISING - NEWSPAPER/MAG         35,016.11    1.10\n",
      "61          PROMOTION - GENERAL          5,578.54    0.17\n",
      "62               AUTO INSURANCE         16,069.01    0.50\n",
      "63           BUILDING INSURANCE          1,963.08    0.06\n",
      "64          RENOVATION EXPENSES          1,217.50    0.04\n",
      "65             INTEREST EXPENSE        183,547.92    5.76\n",
      "66               Total Expenses      1,063,218.22   33.35\n",
      "67              INTEREST INCOME          7,559.96    0.24\n",
      "68          Total Others Income          7,559.96    0.24\n",
      "69                   Net Income       $665,435.02   20.87\n"
     ]
    }
   ],
   "source": [
    "with pd.option_context('display.max_rows', None,\n",
    "                       'display.max_columns', None,\n",
    "                       'display.precision', 3,\n",
    "                       ):\n",
    "    print(df)"
   ]
  },
  {
   "cell_type": "code",
   "execution_count": 72,
   "id": "0b07ae7e-8010-45cc-aaf5-6c52e8462816",
   "metadata": {},
   "outputs": [
    {
     "ename": "AttributeError",
     "evalue": "Can only use .str accessor with string values!",
     "output_type": "error",
     "traceback": [
      "\u001b[0;31m---------------------------------------------------------------------------\u001b[0m",
      "\u001b[0;31mAttributeError\u001b[0m                            Traceback (most recent call last)",
      "Cell \u001b[0;32mIn[72], line 4\u001b[0m\n\u001b[1;32m      2\u001b[0m df\u001b[38;5;241m.\u001b[39miloc[\u001b[38;5;241m6\u001b[39m, df\u001b[38;5;241m.\u001b[39mcolumns\u001b[38;5;241m.\u001b[39mget_loc(\u001b[38;5;124m'\u001b[39m\u001b[38;5;124mmetric_type\u001b[39m\u001b[38;5;124m'\u001b[39m)] \u001b[38;5;241m=\u001b[39m \u001b[38;5;124m'\u001b[39m\u001b[38;5;124mPAYROLL TAXES OPS\u001b[39m\u001b[38;5;124m'\u001b[39m\n\u001b[1;32m      3\u001b[0m df\u001b[38;5;241m.\u001b[39miloc[\u001b[38;5;241m36\u001b[39m, df\u001b[38;5;241m.\u001b[39mcolumns\u001b[38;5;241m.\u001b[39mget_loc(\u001b[38;5;124m'\u001b[39m\u001b[38;5;124mmetric_type\u001b[39m\u001b[38;5;124m'\u001b[39m)] \u001b[38;5;241m=\u001b[39m \u001b[38;5;124m'\u001b[39m\u001b[38;5;124mPAYROLL TAXES ADMIN\u001b[39m\u001b[38;5;124m'\u001b[39m\n\u001b[0;32m----> 4\u001b[0m paranthesis \u001b[38;5;241m=\u001b[39m \u001b[43mdf\u001b[49m\u001b[43m[\u001b[49m\u001b[43mdate_range\u001b[49m\u001b[43m]\u001b[49m\u001b[38;5;241;43m.\u001b[39;49m\u001b[43mstr\u001b[49m\u001b[38;5;241m.\u001b[39mcontains(\u001b[38;5;124mr\u001b[39m\u001b[38;5;124m'\u001b[39m\u001b[38;5;124m\\\u001b[39m\u001b[38;5;124m(|\u001b[39m\u001b[38;5;124m\\\u001b[39m\u001b[38;5;124m)\u001b[39m\u001b[38;5;124m'\u001b[39m)\n\u001b[1;32m      5\u001b[0m df\u001b[38;5;241m.\u001b[39mloc[paranthesis, date_range] \u001b[38;5;241m=\u001b[39m df\u001b[38;5;241m.\u001b[39mloc[paranthesis, date_range]\u001b[38;5;241m.\u001b[39mstr\u001b[38;5;241m.\u001b[39mreplace(\u001b[38;5;124mr\u001b[39m\u001b[38;5;124m'\u001b[39m\u001b[38;5;124m\\\u001b[39m\u001b[38;5;124m(\u001b[39m\u001b[38;5;124m'\u001b[39m, \u001b[38;5;124m'\u001b[39m\u001b[38;5;124m-\u001b[39m\u001b[38;5;124m'\u001b[39m)\u001b[38;5;241m.\u001b[39mstr\u001b[38;5;241m.\u001b[39mreplace(\u001b[38;5;124mr\u001b[39m\u001b[38;5;124m'\u001b[39m\u001b[38;5;124m\\\u001b[39m\u001b[38;5;124m)\u001b[39m\u001b[38;5;124m'\u001b[39m, \u001b[38;5;124m'\u001b[39m\u001b[38;5;124m'\u001b[39m, regex\u001b[38;5;241m=\u001b[39m\u001b[38;5;28;01mTrue\u001b[39;00m)\n\u001b[1;32m      6\u001b[0m df[date_range] \u001b[38;5;241m=\u001b[39m df[date_range]\u001b[38;5;241m.\u001b[39mstr\u001b[38;5;241m.\u001b[39mreplace(\u001b[38;5;124m'\u001b[39m\u001b[38;5;124m[\u001b[39m\u001b[38;5;124m\\\u001b[39m\u001b[38;5;124m$,]\u001b[39m\u001b[38;5;124m'\u001b[39m, \u001b[38;5;124m'\u001b[39m\u001b[38;5;124m'\u001b[39m, regex\u001b[38;5;241m=\u001b[39m\u001b[38;5;28;01mTrue\u001b[39;00m)\u001b[38;5;241m.\u001b[39mastype(\u001b[38;5;28mfloat\u001b[39m)\n",
      "File \u001b[0;32m/Library/Frameworks/Python.framework/Versions/3.10/lib/python3.10/site-packages/pandas/core/generic.py:5575\u001b[0m, in \u001b[0;36mNDFrame.__getattr__\u001b[0;34m(self, name)\u001b[0m\n\u001b[1;32m   5568\u001b[0m \u001b[38;5;28;01mif\u001b[39;00m (\n\u001b[1;32m   5569\u001b[0m     name \u001b[38;5;129;01mnot\u001b[39;00m \u001b[38;5;129;01min\u001b[39;00m \u001b[38;5;28mself\u001b[39m\u001b[38;5;241m.\u001b[39m_internal_names_set\n\u001b[1;32m   5570\u001b[0m     \u001b[38;5;129;01mand\u001b[39;00m name \u001b[38;5;129;01mnot\u001b[39;00m \u001b[38;5;129;01min\u001b[39;00m \u001b[38;5;28mself\u001b[39m\u001b[38;5;241m.\u001b[39m_metadata\n\u001b[1;32m   5571\u001b[0m     \u001b[38;5;129;01mand\u001b[39;00m name \u001b[38;5;129;01mnot\u001b[39;00m \u001b[38;5;129;01min\u001b[39;00m \u001b[38;5;28mself\u001b[39m\u001b[38;5;241m.\u001b[39m_accessors\n\u001b[1;32m   5572\u001b[0m     \u001b[38;5;129;01mand\u001b[39;00m \u001b[38;5;28mself\u001b[39m\u001b[38;5;241m.\u001b[39m_info_axis\u001b[38;5;241m.\u001b[39m_can_hold_identifiers_and_holds_name(name)\n\u001b[1;32m   5573\u001b[0m ):\n\u001b[1;32m   5574\u001b[0m     \u001b[38;5;28;01mreturn\u001b[39;00m \u001b[38;5;28mself\u001b[39m[name]\n\u001b[0;32m-> 5575\u001b[0m \u001b[38;5;28;01mreturn\u001b[39;00m \u001b[38;5;28;43mobject\u001b[39;49m\u001b[38;5;241;43m.\u001b[39;49m\u001b[38;5;21;43m__getattribute__\u001b[39;49m\u001b[43m(\u001b[49m\u001b[38;5;28;43mself\u001b[39;49m\u001b[43m,\u001b[49m\u001b[43m \u001b[49m\u001b[43mname\u001b[49m\u001b[43m)\u001b[49m\n",
      "File \u001b[0;32m/Library/Frameworks/Python.framework/Versions/3.10/lib/python3.10/site-packages/pandas/core/accessor.py:182\u001b[0m, in \u001b[0;36mCachedAccessor.__get__\u001b[0;34m(self, obj, cls)\u001b[0m\n\u001b[1;32m    179\u001b[0m \u001b[38;5;28;01mif\u001b[39;00m obj \u001b[38;5;129;01mis\u001b[39;00m \u001b[38;5;28;01mNone\u001b[39;00m:\n\u001b[1;32m    180\u001b[0m     \u001b[38;5;66;03m# we're accessing the attribute of the class, i.e., Dataset.geo\u001b[39;00m\n\u001b[1;32m    181\u001b[0m     \u001b[38;5;28;01mreturn\u001b[39;00m \u001b[38;5;28mself\u001b[39m\u001b[38;5;241m.\u001b[39m_accessor\n\u001b[0;32m--> 182\u001b[0m accessor_obj \u001b[38;5;241m=\u001b[39m \u001b[38;5;28;43mself\u001b[39;49m\u001b[38;5;241;43m.\u001b[39;49m\u001b[43m_accessor\u001b[49m\u001b[43m(\u001b[49m\u001b[43mobj\u001b[49m\u001b[43m)\u001b[49m\n\u001b[1;32m    183\u001b[0m \u001b[38;5;66;03m# Replace the property with the accessor object. Inspired by:\u001b[39;00m\n\u001b[1;32m    184\u001b[0m \u001b[38;5;66;03m# https://www.pydanny.com/cached-property.html\u001b[39;00m\n\u001b[1;32m    185\u001b[0m \u001b[38;5;66;03m# We need to use object.__setattr__ because we overwrite __setattr__ on\u001b[39;00m\n\u001b[1;32m    186\u001b[0m \u001b[38;5;66;03m# NDFrame\u001b[39;00m\n\u001b[1;32m    187\u001b[0m \u001b[38;5;28mobject\u001b[39m\u001b[38;5;241m.\u001b[39m\u001b[38;5;21m__setattr__\u001b[39m(obj, \u001b[38;5;28mself\u001b[39m\u001b[38;5;241m.\u001b[39m_name, accessor_obj)\n",
      "File \u001b[0;32m/Library/Frameworks/Python.framework/Versions/3.10/lib/python3.10/site-packages/pandas/core/strings/accessor.py:177\u001b[0m, in \u001b[0;36mStringMethods.__init__\u001b[0;34m(self, data)\u001b[0m\n\u001b[1;32m    174\u001b[0m \u001b[38;5;28;01mdef\u001b[39;00m \u001b[38;5;21m__init__\u001b[39m(\u001b[38;5;28mself\u001b[39m, data):\n\u001b[1;32m    175\u001b[0m     \u001b[38;5;28;01mfrom\u001b[39;00m \u001b[38;5;21;01mpandas\u001b[39;00m\u001b[38;5;21;01m.\u001b[39;00m\u001b[38;5;21;01mcore\u001b[39;00m\u001b[38;5;21;01m.\u001b[39;00m\u001b[38;5;21;01marrays\u001b[39;00m\u001b[38;5;21;01m.\u001b[39;00m\u001b[38;5;21;01mstring_\u001b[39;00m \u001b[38;5;28;01mimport\u001b[39;00m StringDtype\n\u001b[0;32m--> 177\u001b[0m     \u001b[38;5;28mself\u001b[39m\u001b[38;5;241m.\u001b[39m_inferred_dtype \u001b[38;5;241m=\u001b[39m \u001b[38;5;28;43mself\u001b[39;49m\u001b[38;5;241;43m.\u001b[39;49m\u001b[43m_validate\u001b[49m\u001b[43m(\u001b[49m\u001b[43mdata\u001b[49m\u001b[43m)\u001b[49m\n\u001b[1;32m    178\u001b[0m     \u001b[38;5;28mself\u001b[39m\u001b[38;5;241m.\u001b[39m_is_categorical \u001b[38;5;241m=\u001b[39m is_categorical_dtype(data\u001b[38;5;241m.\u001b[39mdtype)\n\u001b[1;32m    179\u001b[0m     \u001b[38;5;28mself\u001b[39m\u001b[38;5;241m.\u001b[39m_is_string \u001b[38;5;241m=\u001b[39m \u001b[38;5;28misinstance\u001b[39m(data\u001b[38;5;241m.\u001b[39mdtype, StringDtype)\n",
      "File \u001b[0;32m/Library/Frameworks/Python.framework/Versions/3.10/lib/python3.10/site-packages/pandas/core/strings/accessor.py:231\u001b[0m, in \u001b[0;36mStringMethods._validate\u001b[0;34m(data)\u001b[0m\n\u001b[1;32m    228\u001b[0m inferred_dtype \u001b[38;5;241m=\u001b[39m lib\u001b[38;5;241m.\u001b[39minfer_dtype(values, skipna\u001b[38;5;241m=\u001b[39m\u001b[38;5;28;01mTrue\u001b[39;00m)\n\u001b[1;32m    230\u001b[0m \u001b[38;5;28;01mif\u001b[39;00m inferred_dtype \u001b[38;5;129;01mnot\u001b[39;00m \u001b[38;5;129;01min\u001b[39;00m allowed_types:\n\u001b[0;32m--> 231\u001b[0m     \u001b[38;5;28;01mraise\u001b[39;00m \u001b[38;5;167;01mAttributeError\u001b[39;00m(\u001b[38;5;124m\"\u001b[39m\u001b[38;5;124mCan only use .str accessor with string values!\u001b[39m\u001b[38;5;124m\"\u001b[39m)\n\u001b[1;32m    232\u001b[0m \u001b[38;5;28;01mreturn\u001b[39;00m inferred_dtype\n",
      "\u001b[0;31mAttributeError\u001b[0m: Can only use .str accessor with string values!"
     ]
    }
   ],
   "source": [
    "# All modifications of dataframe\n",
    "df.iloc[6, df.columns.get_loc('metric_type')] = 'PAYROLL TAXES OPS'\n",
    "df.iloc[36, df.columns.get_loc('metric_type')] = 'PAYROLL TAXES ADMIN'\n",
    "paranthesis = df[date_range].str.contains(r'\\(|\\)')\n",
    "df.loc[paranthesis, date_range] = df.loc[paranthesis, date_range].str.replace(r'\\(', '-').str.replace(r'\\)', '', regex=True)\n",
    "df[date_range] = df[date_range].str.replace('[\\$,]', '', regex=True).astype(float)\n",
    "\n"
   ]
  },
  {
   "cell_type": "code",
   "execution_count": 74,
   "id": "4bd02c30-ba4d-4c94-8c41-e1fbb4247b32",
   "metadata": {},
   "outputs": [
    {
     "name": "stdout",
     "output_type": "stream",
     "text": [
      "                    metric_type  01/01/23-09/30/23 percent\n",
      "0           meeting room rental          6.104e+04    1.91\n",
      "1                   room rental          3.119e+06   97.84\n",
      "2          miscellaneous income          1.884e+02    0.01\n",
      "3                        refund         -5.890e+01  (0.00)\n",
      "4                total revenues          3.180e+06   99.76\n",
      "5              front desk clerk          1.315e+05    4.13\n",
      "6             PAYROLL TAXES OPS          3.141e+05    9.85\n",
      "7               cafe attendants          6.869e+04    2.15\n",
      "8                 payroll taxes          4.419e+04    1.39\n",
      "9        workers comp insurance          4.767e+04    1.50\n",
      "10               linen purchase          1.098e+04    0.34\n",
      "11               guest supplies          5.254e+04    1.65\n",
      "12             laundry supplies          1.077e+04    0.34\n",
      "13     commission travel agents          1.538e+05    4.82\n",
      "14        continental breakfast          1.025e+05    3.22\n",
      "15          franchise royalties          6.404e+04    2.01\n",
      "16                   reward fee          5.994e+04    1.88\n",
      "17      credit card commissions          8.232e+04    2.58\n",
      "18        maintenance  salaries          3.599e+04    1.13\n",
      "19  payroll taxes - maintenance          2.915e+03    0.09\n",
      "20                 pest control          8.443e+03    0.26\n",
      "21   equipment repair - general          1.619e+04    0.51\n",
      "22                fire & safety          8.964e+02    0.03\n",
      "23                swimming pool          7.450e+03    0.23\n",
      "24     maintenance & serv agrmt          9.038e+03    0.28\n",
      "25             security expense          1.421e+03    0.04\n",
      "26                     plumbing          1.496e+03    0.05\n",
      "27                    elevators          4.803e+03    0.15\n",
      "28         landscaping/exterior          1.840e+04    0.58\n",
      "29        trash & waste removal          1.124e+04    0.35\n",
      "30         maintenance supplies          1.450e+04    0.45\n",
      "31  miscellaneous - maintenance          8.690e+02    0.03\n",
      "32                        water          1.592e+04    0.50\n",
      "33                          gas          4.388e+04    1.38\n",
      "34                  electricity          1.226e+05    3.85\n",
      "35          total cost of sales          1.459e+06   45.77\n",
      "36          PAYROLL TAXES ADMIN          1.721e+06   53.99\n",
      "37            officers salaries          1.842e+05    5.78\n",
      "38      administrative salaries          1.679e+05    5.27\n",
      "39                payroll taxes          2.774e+04    0.87\n",
      "40         commercial insurance          1.254e+05    3.94\n",
      "41              office supplies          6.511e+03    0.20\n",
      "42             licenses/permits          5.133e+03    0.16\n",
      "43          education & seminar          1.313e+03    0.04\n",
      "44           temporary employee          2.448e+03    0.08\n",
      "45               travel expense          2.328e+04    0.73\n",
      "46                entertainment          1.331e+04    0.42\n",
      "47                    telephone          1.187e+04    0.37\n",
      "48          internet & computer          7.591e+04    2.38\n",
      "49         employee recruitment          5.220e+02    0.02\n",
      "50         payroll service fees          7.090e+03    0.22\n",
      "51         bank service charges          3.314e+02    0.01\n",
      "52         membership dues/fees          7.350e+03    0.23\n",
      "53               management fee          1.100e+05    3.45\n",
      "54        gasoline/auto expense          4.748e+03    0.15\n",
      "55               property taxes          1.903e+04    0.60\n",
      "56    legal & professional fees          1.773e+04    0.56\n",
      "57                     donation          6.800e+02    0.02\n",
      "58                  other taxes          6.251e+03    0.20\n",
      "59             building repairs          1.000e+03    0.03\n",
      "60  advertising - newspaper/mag          3.502e+04    1.10\n",
      "61          promotion - general          5.579e+03    0.17\n",
      "62               auto insurance          1.607e+04    0.50\n",
      "63           building insurance          1.963e+03    0.06\n",
      "64          renovation expenses          1.218e+03    0.04\n",
      "65             interest expense          1.835e+05    5.76\n",
      "66               total expenses          1.063e+06   33.35\n",
      "67              interest income          7.560e+03    0.24\n",
      "68          total others income          7.560e+03    0.24\n",
      "69                   net income          6.654e+05   20.87\n"
     ]
    }
   ],
   "source": [
    "with pd.option_context('display.max_rows', None,\n",
    "                       'display.max_columns', None,\n",
    "                       'display.precision', 3,\n",
    "                       ):\n",
    "    print(df)"
   ]
  },
  {
   "cell_type": "code",
   "execution_count": 71,
   "id": "c75d227a-e9e1-4e27-9f5e-1bcc44afd379",
   "metadata": {},
   "outputs": [
    {
     "name": "stdout",
     "output_type": "stream",
     "text": [
      "                metric_type  01/01/23-09/30/23 percent\n",
      "35      total cost of sales         1459179.06   45.77\n",
      "36      payroll taxes admin         1721093.28   53.99\n",
      "37        officers salaries          184166.78    5.78\n",
      "38  administrative salaries          167948.23    5.27\n",
      "40     commercial insurance          125447.19    3.94\n",
      "47                telephone           11870.02    0.37\n",
      "48      internet & computer           75913.36    2.38\n",
      "55           property taxes           19032.39    0.60\n",
      "62           auto insurance           16069.01    0.50\n"
     ]
    }
   ],
   "source": [
    "# columns for cost: total cost of sales, officer/admin salaries, payroll taxes, commercial ins, telephone, internet, property tax, \n",
    "# credit card commission, maint salary, payroll tax, pest, eqpt rep, fire and safety, swimming pool, maint&serv, plumbing, elec, trash&waste, \n",
    "# maint supp, total utilities, auto/gen insurance, building ins, \n",
    "rows_to_sum = ['Total Cost Of Sales', 'OFFICERS SALARIES', 'ADMINISTRATIVE SALARIES', 'PAYROLL TAXES ADMIN', 'COMMERCIAL INSURANCE', \n",
    "               'TELEPHONE', 'INTERNET & COMPUTER', 'PROPERTY TAXES', 'AUTO INSURANCE']\n",
    "df['metric_type'] = df['metric_type'].str.lower().str.strip()\n",
    "rows_to_sum = [row.lower().strip() for row in rows_to_sum]\n",
    "# print(rows_to_sum)\n",
    "temp = df['metric_type'].isin(rows_to_sum)\n",
    "selectRows = df[temp]\n",
    "print(selectRows)\n",
    "totalOpCostCurrYr = selectRows[date_range].sum()"
   ]
  },
  {
   "cell_type": "code",
   "execution_count": 67,
   "id": "466dee78-b4c4-43e1-b54f-d605e5ae3d22",
   "metadata": {},
   "outputs": [
    {
     "name": "stdout",
     "output_type": "stream",
     "text": [
      "3780719.3199999994\n"
     ]
    }
   ],
   "source": [
    "print(totalOpCostCurrYr)"
   ]
  },
  {
   "cell_type": "code",
   "execution_count": 68,
   "id": "e2000fd1-b801-4bd5-8891-fa5b5ed7038c",
   "metadata": {},
   "outputs": [
    {
     "name": "stdin",
     "output_type": "stream",
     "text": [
      "How many rooms sold? 26076\n"
     ]
    },
    {
     "name": "stdout",
     "output_type": "stream",
     "text": [
      "01/01/23-09/30/23: $144.99\n"
     ]
    }
   ],
   "source": [
    "roomsSold = input(\"How many rooms sold?\")\n",
    "# retrieve total rooms sold from VM or NA reports\n",
    "# e.g: 2023 total rooms YTD = 26076\n",
    "cPORCurrYr = totalOpCostCurrYr/int(roomsSold)\n",
    "print(f\"{date_range}: ${round(cPORCurrYr, 2)}\")"
   ]
  },
  {
   "cell_type": "code",
   "execution_count": null,
   "id": "0a42a745-32d7-497c-9175-2be9357995c2",
   "metadata": {},
   "outputs": [],
   "source": []
  }
 ],
 "metadata": {
  "kernelspec": {
   "display_name": "Python 3 (ipykernel)",
   "language": "python",
   "name": "python3"
  },
  "language_info": {
   "codemirror_mode": {
    "name": "ipython",
    "version": 3
   },
   "file_extension": ".py",
   "mimetype": "text/x-python",
   "name": "python",
   "nbconvert_exporter": "python",
   "pygments_lexer": "ipython3",
   "version": "3.10.5"
  }
 },
 "nbformat": 4,
 "nbformat_minor": 5
}
