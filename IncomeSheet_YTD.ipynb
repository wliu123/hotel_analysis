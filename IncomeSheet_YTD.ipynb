{
 "cells": [
  {
   "cell_type": "code",
   "execution_count": 24,
   "id": "3f814c14-f485-4879-af20-342cfd680fc6",
   "metadata": {},
   "outputs": [],
   "source": [
    "import pandas as pd\n",
    "from datetime import date, datetime\n",
    "import numpy as np\n",
    "import matplotlib.pyplot as plt\n",
    "import plotly.express as px\n",
    "from plotly.subplots import make_subplots\n",
    "import plotly.graph_objects as go"
   ]
  },
  {
   "cell_type": "code",
   "execution_count": 2,
   "id": "89c1935e-6b29-4735-b1bc-bf958b287f6e",
   "metadata": {},
   "outputs": [],
   "source": [
    "df = pd.read_csv(\"data/2023 Profit and Loss.csv\", index_col = False)"
   ]
  },
  {
   "cell_type": "code",
   "execution_count": 4,
   "id": "b457fa8c-28e3-443a-ae17-ae2b84ae605f",
   "metadata": {},
   "outputs": [
    {
     "data": {
      "text/html": [
       "<div>\n",
       "<style scoped>\n",
       "    .dataframe tbody tr th:only-of-type {\n",
       "        vertical-align: middle;\n",
       "    }\n",
       "\n",
       "    .dataframe tbody tr th {\n",
       "        vertical-align: top;\n",
       "    }\n",
       "\n",
       "    .dataframe thead th {\n",
       "        text-align: right;\n",
       "    }\n",
       "</style>\n",
       "<table border=\"1\" class=\"dataframe\">\n",
       "  <thead>\n",
       "    <tr style=\"text-align: right;\">\n",
       "      <th></th>\n",
       "      <th>Unnamed: 0</th>\n",
       "      <th>Unnamed: 1</th>\n",
       "      <th>Unnamed: 2</th>\n",
       "      <th>Unnamed: 3</th>\n",
       "      <th>Unnamed: 4</th>\n",
       "    </tr>\n",
       "  </thead>\n",
       "  <tbody>\n",
       "    <tr>\n",
       "      <th>0</th>\n",
       "      <td>BJ WIN HOSPITALITY INC.</td>\n",
       "      <td>NaN</td>\n",
       "      <td>NaN</td>\n",
       "      <td>NaN</td>\n",
       "      <td>NaN</td>\n",
       "    </tr>\n",
       "    <tr>\n",
       "      <th>1</th>\n",
       "      <td>Profit and Loss</td>\n",
       "      <td>NaN</td>\n",
       "      <td>NaN</td>\n",
       "      <td>NaN</td>\n",
       "      <td>NaN</td>\n",
       "    </tr>\n",
       "    <tr>\n",
       "      <th>2</th>\n",
       "      <td>From January 1, 2023 to June 30, 2023</td>\n",
       "      <td>NaN</td>\n",
       "      <td>NaN</td>\n",
       "      <td>NaN</td>\n",
       "      <td>NaN</td>\n",
       "    </tr>\n",
       "    <tr>\n",
       "      <th>3</th>\n",
       "      <td>NaN</td>\n",
       "      <td>NaN</td>\n",
       "      <td>NaN</td>\n",
       "      <td>NaN</td>\n",
       "      <td>NaN</td>\n",
       "    </tr>\n",
       "    <tr>\n",
       "      <th>4</th>\n",
       "      <td>NaN</td>\n",
       "      <td>Year to Date</td>\n",
       "      <td>%</td>\n",
       "      <td>NaN</td>\n",
       "      <td>NaN</td>\n",
       "    </tr>\n",
       "  </tbody>\n",
       "</table>\n",
       "</div>"
      ],
      "text/plain": [
       "                              Unnamed: 0    Unnamed: 1 Unnamed: 2  Unnamed: 3  \\\n",
       "0                BJ WIN HOSPITALITY INC.           NaN        NaN         NaN   \n",
       "1                        Profit and Loss           NaN        NaN         NaN   \n",
       "2  From January 1, 2023 to June 30, 2023           NaN        NaN         NaN   \n",
       "3                                    NaN           NaN        NaN         NaN   \n",
       "4                                    NaN  Year to Date          %         NaN   \n",
       "\n",
       "   Unnamed: 4  \n",
       "0         NaN  \n",
       "1         NaN  \n",
       "2         NaN  \n",
       "3         NaN  \n",
       "4         NaN  "
      ]
     },
     "execution_count": 4,
     "metadata": {},
     "output_type": "execute_result"
    }
   ],
   "source": [
    "df.head()"
   ]
  },
  {
   "cell_type": "code",
   "execution_count": 27,
   "id": "5c6a1dad-ea44-4934-b4fe-a5fc2692a2ae",
   "metadata": {},
   "outputs": [
    {
     "name": "stdout",
     "output_type": "stream",
     "text": [
      "01/01/23-06/30/23\n"
     ]
    }
   ],
   "source": [
    "datestr = df.loc[2, 'Unnamed: 0']\n",
    "\n",
    "# datestr = datestr.lower().replace(',', '')\n",
    "split_date = datestr.split()\n",
    "\n",
    "from_date = ' '.join(split_date[1:4])\n",
    "input_from_date = datetime.strptime(from_date, \"%B %d, %Y\")\n",
    "formatted_from_date = input_from_date.strftime(\"%m/%d/%y\")\n",
    "\n",
    "to_date = ' '.join(split_date[5:8])\n",
    "input_to_date = datetime.strptime(to_date, \"%B %d, %Y\")\n",
    "formatted_to_date = input_to_date.strftime(\"%m/%d/%y\")\n",
    "\n",
    "date_range = formatted_from_date + '-' + formatted_to_date\n",
    "print(date_range)\n",
    "# print(split_date[1:4].append(split_date[5:7]))"
   ]
  },
  {
   "cell_type": "code",
   "execution_count": 28,
   "id": "21baac9f-a7a4-4047-825e-9062bbe5d4a3",
   "metadata": {},
   "outputs": [],
   "source": [
    "cols_to_remove = ['Unnamed: 3', 'Unnamed: 4']\n",
    "df = df.drop(columns = cols_to_remove)"
   ]
  },
  {
   "cell_type": "code",
   "execution_count": 31,
   "id": "b6892c6e-3048-4dac-af35-e226603db1ef",
   "metadata": {},
   "outputs": [],
   "source": [
    "modcols = {\n",
    "    'Unnamed: 0' : 'metric_type',\n",
    "    'Unnamed: 1' : date_range,\n",
    "    'Unnamed: 2' : 'percent',\n",
    "}\n",
    "\n",
    "df = df.rename(columns = modcols)"
   ]
  },
  {
   "cell_type": "code",
   "execution_count": 35,
   "id": "bff153bd-93a8-4754-8ccd-696b31e077c4",
   "metadata": {},
   "outputs": [],
   "source": [
    "df = df.dropna(axis=0)\n",
    "df = df.reset_index(drop=True)"
   ]
  },
  {
   "cell_type": "code",
   "execution_count": 36,
   "id": "4a920e52-2bcf-431d-a22d-9f1f18e92840",
   "metadata": {},
   "outputs": [
    {
     "name": "stdout",
     "output_type": "stream",
     "text": [
      "                    metric_type 01/01/23-06/30/23 percent\n",
      "0           MEETING ROOM RENTAL        $39,875.01    1.86\n",
      "1                   ROOM RENTAL      2,098,966.49   97.83\n",
      "2                Total Revenues      2,138,841.50   99.69\n",
      "3              FRONT DESK CLERK         85,026.79    3.96\n",
      "4                   HOUSEKEEPER        203,618.05    9.49\n",
      "5               CAFE ATTENDANTS         43,963.58    2.05\n",
      "6                 PAYROLL TAXES         29,875.02    1.39\n",
      "7        WORKERS COMP INSURANCE         32,809.49    1.53\n",
      "8                LINEN PURCHASE          8,812.75    0.41\n",
      "9                GUEST SUPPLIES         37,934.48    1.77\n",
      "10             LAUNDRY SUPPLIES          5,549.17    0.26\n",
      "11     COMMISSION TRAVEL AGENTS        103,491.04    4.82\n",
      "12        CONTINENTAL BREAKFAST         64,861.32    3.02\n",
      "13          FRANCHISE ROYALTIES         38,569.29    1.80\n",
      "14                   REWARD FEE         37,382.72    1.74\n",
      "15      CREDIT CARD COMMISSIONS         53,470.97    2.49\n",
      "16        MAINTENANCE  SALARIES         23,866.50    1.11\n",
      "17  PAYROLL TAXES - Maintenance          1,986.77    0.09\n",
      "18                 PEST CONTROL          5,608.25    0.26\n",
      "19   EQUIPMENT REPAIR - GENERAL         14,729.62    0.69\n",
      "20                FIRE & SAFETY            896.36    0.04\n",
      "21                SWIMMING POOL          6,535.00    0.30\n",
      "22     MAINTENANCE & SERV AGRMT          6,054.04    0.28\n",
      "23             SECURITY EXPENSE          1,217.14    0.06\n",
      "24                     PLUMBING            470.00    0.02\n",
      "25                    ELEVATORS          3,204.00    0.15\n",
      "26         LANDSCAPING/EXTERIOR          4,100.00    0.19\n",
      "27        TRASH & WASTE REMOVAL          6,750.68    0.31\n",
      "28         MAINTENANCE SUPPLIES          7,740.71    0.36\n",
      "29                        WATER          9,086.56    0.42\n",
      "30                          GAS         35,184.50    1.64\n",
      "31                  ELECTRICITY         63,034.94    2.94\n",
      "32          Total Cost of Sales        935,829.74   43.62\n",
      "33                 Gross Profit      1,203,011.76   56.07\n",
      "34            OFFICERS SALARIES        119,166.74    5.55\n",
      "35      ADMINISTRATIVE SALARIES        109,728.73    5.11\n",
      "36                PAYROLL TAXES         18,315.45    0.85\n",
      "37         COMMERCIAL INSURANCE        123,077.19    5.74\n",
      "38              OFFICE SUPPLIES          4,784.44    0.22\n",
      "39             LICENSES/PERMITS          3,276.06    0.15\n",
      "40          EDUCATION & SEMINAR            470.00    0.02\n",
      "41           TEMPORARY EMPLOYEE          2,448.00    0.11\n",
      "42               TRAVEL EXPENSE          4,923.79    0.23\n",
      "43                ENTERTAINMENT          5,878.11    0.27\n",
      "44                    TELEPHONE          8,154.56    0.38\n",
      "45          INTERNET & COMPUTER         47,366.22    2.21\n",
      "46         EMPLOYEE RECRUITMENT            105.40    0.00\n",
      "47         PAYROLL SERVICE FEES          4,407.45    0.21\n",
      "48         BANK SERVICE CHARGES            124.38    0.01\n",
      "49         MEMBERSHIP DUES/FEES          2,720.00    0.13\n",
      "50        GASOLINE/AUTO EXPENSE          3,560.52    0.17\n",
      "51               PROPERTY TAXES          8,082.03    0.38\n",
      "52    LEGAL & PROFESSIONAL FEES         10,814.00    0.50\n",
      "53                     DONATION            680.00    0.03\n",
      "54                  OTHER TAXES          6,250.00    0.29\n",
      "55  ADVERTISING - NEWSPAPER/MAG         28,557.74    1.33\n",
      "56          PROMOTION - GENERAL          4,838.54    0.23\n",
      "57               AUTO INSURANCE         10,827.15    0.50\n",
      "58          RENOVATION EXPENSES          1,217.50    0.06\n",
      "59             INTEREST EXPENSE        183,547.92    8.55\n",
      "60               Total Expenses        713,321.92   33.25\n",
      "61              INTEREST INCOME          6,732.95    0.31\n",
      "62          Total Others Income          6,732.95    0.31\n",
      "63                   Net Income       $496,422.79   23.14\n"
     ]
    }
   ],
   "source": [
    "with pd.option_context('display.max_rows', None,\n",
    "                       'display.max_columns', None,\n",
    "                       'display.precision', 3,\n",
    "                       ):\n",
    "    print(df)"
   ]
  },
  {
   "cell_type": "code",
   "execution_count": 52,
   "id": "0b07ae7e-8010-45cc-aaf5-6c52e8462816",
   "metadata": {},
   "outputs": [],
   "source": [
    "# All modifications of dataframe\n",
    "df.iloc[6, df.columns.get_loc('metric_type')] = 'PAYROLL TAXES OPS'\n",
    "df.iloc[36, df.columns.get_loc('metric_type')] = 'PAYROLL TAXES ADMIN'\n",
    "df['01/01/23-06/30/23'] = df['01/01/23-06/30/23'].str.replace('[\\$,]', '', regex=True).astype(float)\n"
   ]
  },
  {
   "cell_type": "code",
   "execution_count": 53,
   "id": "c75d227a-e9e1-4e27-9f5e-1bcc44afd379",
   "metadata": {},
   "outputs": [],
   "source": [
    "# columns for cost: total cost of sales, officer/admin salaries, payroll taxes, commercial ins, telephone, internet, property tax, \n",
    "# credit card commission, maint salary, payroll tax, pest, eqpt rep, fire and safety, swimming pool, maint&serv, plumbing, elec, trash&waste, \n",
    "# maint supp, total utilities, auto/gen insurance, building ins, \n",
    "rows_to_sum = ['Total Cost Of Sales', 'OFFICERS SALARIES', 'ADMINISTRATIVE SALARIES', 'PAYROLL TAXES ADMIN', 'COMMERCIAL INSURANCE', \n",
    "               'TELEPHONE', 'INTERNET & COMPUTER', 'PROPERTY TAXES', 'AUTO INSURANCE']\n",
    "df['metric_type'] = df['metric_type'].str.lower().str.strip()\n",
    "rows_to_sum = [row.lower().strip() for row in rows_to_sum]\n",
    "temp = df['metric_type'].isin(rows_to_sum)\n",
    "selectRows = df[temp]\n",
    "totalOpCostCurrYr = selectRows['01/01/23-06/30/23'].sum()"
   ]
  },
  {
   "cell_type": "code",
   "execution_count": 54,
   "id": "466dee78-b4c4-43e1-b54f-d605e5ae3d22",
   "metadata": {},
   "outputs": [
    {
     "name": "stdout",
     "output_type": "stream",
     "text": [
      "1380547.8099999998\n"
     ]
    }
   ],
   "source": [
    "print(totalOpCostCurrYr)"
   ]
  },
  {
   "cell_type": "code",
   "execution_count": 55,
   "id": "e2000fd1-b801-4bd5-8891-fa5b5ed7038c",
   "metadata": {},
   "outputs": [
    {
     "name": "stdin",
     "output_type": "stream",
     "text": [
      "How many rooms sold? 17386\n"
     ]
    },
    {
     "name": "stdout",
     "output_type": "stream",
     "text": [
      "01/01/23-06/30/23: $79.41\n"
     ]
    }
   ],
   "source": [
    "roomsSold = input(\"How many rooms sold?\")\n",
    "# retrieve total rooms sold from VM or NA reports\n",
    "# e.g: 2023 total rooms YTD = 17386\n",
    "cPORCurrYr = totalOpCostCurrYr/int(roomsSold)\n",
    "print(f\"{date_range}: ${round(cPORCurrYr, 2)}\")"
   ]
  },
  {
   "cell_type": "code",
   "execution_count": null,
   "id": "0a42a745-32d7-497c-9175-2be9357995c2",
   "metadata": {},
   "outputs": [],
   "source": []
  }
 ],
 "metadata": {
  "kernelspec": {
   "display_name": "Python 3 (ipykernel)",
   "language": "python",
   "name": "python3"
  },
  "language_info": {
   "codemirror_mode": {
    "name": "ipython",
    "version": 3
   },
   "file_extension": ".py",
   "mimetype": "text/x-python",
   "name": "python",
   "nbconvert_exporter": "python",
   "pygments_lexer": "ipython3",
   "version": "3.10.5"
  }
 },
 "nbformat": 4,
 "nbformat_minor": 5
}
