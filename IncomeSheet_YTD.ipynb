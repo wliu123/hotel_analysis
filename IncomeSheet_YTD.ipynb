{
 "cells": [
  {
   "cell_type": "code",
   "execution_count": 96,
   "id": "3f814c14-f485-4879-af20-342cfd680fc6",
   "metadata": {},
   "outputs": [],
   "source": [
    "import pandas as pd\n",
    "from datetime import date, datetime\n",
    "import numpy as np\n",
    "import matplotlib.pyplot as plt\n",
    "import plotly.express as px\n",
    "from plotly.subplots import make_subplots\n",
    "import plotly.graph_objects as go\n",
    "import os\n",
    "import glob"
   ]
  },
  {
   "cell_type": "code",
   "execution_count": 97,
   "id": "015ec60c-be8d-4c74-855c-6a22110e7876",
   "metadata": {},
   "outputs": [
    {
     "name": "stdout",
     "output_type": "stream",
     "text": [
      "['data/YTD files/2023 Profit and Loss YTD.csv', 'data/YTD files/2023 Profit and Loss.csv']\n"
     ]
    }
   ],
   "source": [
    "file_path = \"data/YTD files\"\n",
    "csv_files = glob.glob(os.path.join(file_path, '*.csv'))\n",
    "print(csv_files)"
   ]
  },
  {
   "cell_type": "code",
   "execution_count": 98,
   "id": "3a2d616b-4c07-4d75-bd7b-4d797416ecfb",
   "metadata": {},
   "outputs": [],
   "source": [
    "latest_file = max(csv_files, key=os.path.getmtime)"
   ]
  },
  {
   "cell_type": "code",
   "execution_count": 99,
   "id": "89c1935e-6b29-4735-b1bc-bf958b287f6e",
   "metadata": {},
   "outputs": [],
   "source": [
    "df = pd.read_csv(latest_file, index_col = False)"
   ]
  },
  {
   "cell_type": "code",
   "execution_count": 100,
   "id": "b457fa8c-28e3-443a-ae17-ae2b84ae605f",
   "metadata": {},
   "outputs": [
    {
     "data": {
      "text/html": [
       "<div>\n",
       "<style scoped>\n",
       "    .dataframe tbody tr th:only-of-type {\n",
       "        vertical-align: middle;\n",
       "    }\n",
       "\n",
       "    .dataframe tbody tr th {\n",
       "        vertical-align: top;\n",
       "    }\n",
       "\n",
       "    .dataframe thead th {\n",
       "        text-align: right;\n",
       "    }\n",
       "</style>\n",
       "<table border=\"1\" class=\"dataframe\">\n",
       "  <thead>\n",
       "    <tr style=\"text-align: right;\">\n",
       "      <th></th>\n",
       "      <th>Unnamed: 0</th>\n",
       "      <th>Unnamed: 1</th>\n",
       "      <th>Unnamed: 2</th>\n",
       "      <th>Unnamed: 3</th>\n",
       "      <th>Unnamed: 4</th>\n",
       "    </tr>\n",
       "  </thead>\n",
       "  <tbody>\n",
       "    <tr>\n",
       "      <th>0</th>\n",
       "      <td>BJ WIN HOSPITALITY INC.</td>\n",
       "      <td>NaN</td>\n",
       "      <td>NaN</td>\n",
       "      <td>NaN</td>\n",
       "      <td>NaN</td>\n",
       "    </tr>\n",
       "    <tr>\n",
       "      <th>1</th>\n",
       "      <td>Profit and Loss</td>\n",
       "      <td>NaN</td>\n",
       "      <td>NaN</td>\n",
       "      <td>NaN</td>\n",
       "      <td>NaN</td>\n",
       "    </tr>\n",
       "    <tr>\n",
       "      <th>2</th>\n",
       "      <td>From January 1, 2023 to September 30, 2023</td>\n",
       "      <td>NaN</td>\n",
       "      <td>NaN</td>\n",
       "      <td>NaN</td>\n",
       "      <td>NaN</td>\n",
       "    </tr>\n",
       "    <tr>\n",
       "      <th>3</th>\n",
       "      <td>NaN</td>\n",
       "      <td>NaN</td>\n",
       "      <td>NaN</td>\n",
       "      <td>NaN</td>\n",
       "      <td>NaN</td>\n",
       "    </tr>\n",
       "    <tr>\n",
       "      <th>4</th>\n",
       "      <td>NaN</td>\n",
       "      <td>Year to Date</td>\n",
       "      <td>%</td>\n",
       "      <td>NaN</td>\n",
       "      <td>NaN</td>\n",
       "    </tr>\n",
       "  </tbody>\n",
       "</table>\n",
       "</div>"
      ],
      "text/plain": [
       "                                   Unnamed: 0    Unnamed: 1 Unnamed: 2  \\\n",
       "0                     BJ WIN HOSPITALITY INC.           NaN        NaN   \n",
       "1                             Profit and Loss           NaN        NaN   \n",
       "2  From January 1, 2023 to September 30, 2023           NaN        NaN   \n",
       "3                                         NaN           NaN        NaN   \n",
       "4                                         NaN  Year to Date          %   \n",
       "\n",
       "   Unnamed: 3  Unnamed: 4  \n",
       "0         NaN         NaN  \n",
       "1         NaN         NaN  \n",
       "2         NaN         NaN  \n",
       "3         NaN         NaN  \n",
       "4         NaN         NaN  "
      ]
     },
     "execution_count": 100,
     "metadata": {},
     "output_type": "execute_result"
    }
   ],
   "source": [
    "df.head()"
   ]
  },
  {
   "cell_type": "code",
   "execution_count": 101,
   "id": "5c6a1dad-ea44-4934-b4fe-a5fc2692a2ae",
   "metadata": {},
   "outputs": [
    {
     "name": "stdout",
     "output_type": "stream",
     "text": [
      "01/01/23-09/30/23\n"
     ]
    }
   ],
   "source": [
    "datestr = df.loc[2, 'Unnamed: 0']\n",
    "\n",
    "# datestr = datestr.lower().replace(',', '')\n",
    "split_date = datestr.split()\n",
    "\n",
    "from_date = ' '.join(split_date[1:4])\n",
    "input_from_date = datetime.strptime(from_date, \"%B %d, %Y\")\n",
    "formatted_from_date = input_from_date.strftime(\"%m/%d/%y\")\n",
    "\n",
    "to_date = ' '.join(split_date[5:8])\n",
    "input_to_date = datetime.strptime(to_date, \"%B %d, %Y\")\n",
    "formatted_to_date = input_to_date.strftime(\"%m/%d/%y\")\n",
    "\n",
    "date_range = formatted_from_date + '-' + formatted_to_date\n",
    "print(date_range)\n",
    "# print(split_date[1:4].append(split_date[5:7]))"
   ]
  },
  {
   "cell_type": "code",
   "execution_count": 102,
   "id": "21baac9f-a7a4-4047-825e-9062bbe5d4a3",
   "metadata": {},
   "outputs": [],
   "source": [
    "cols_to_remove = ['Unnamed: 3', 'Unnamed: 4']\n",
    "df = df.drop(columns = cols_to_remove)"
   ]
  },
  {
   "cell_type": "code",
   "execution_count": 103,
   "id": "b6892c6e-3048-4dac-af35-e226603db1ef",
   "metadata": {},
   "outputs": [],
   "source": [
    "modcols = {\n",
    "    'Unnamed: 0' : 'metric_type',\n",
    "    'Unnamed: 1' : date_range,\n",
    "    'Unnamed: 2' : 'percent',\n",
    "}\n",
    "\n",
    "df = df.rename(columns = modcols)"
   ]
  },
  {
   "cell_type": "code",
   "execution_count": 104,
   "id": "bff153bd-93a8-4754-8ccd-696b31e077c4",
   "metadata": {},
   "outputs": [],
   "source": [
    "df = df.dropna(axis=0)\n",
    "df = df.reset_index(drop=True)"
   ]
  },
  {
   "cell_type": "code",
   "execution_count": 105,
   "id": "4a920e52-2bcf-431d-a22d-9f1f18e92840",
   "metadata": {},
   "outputs": [],
   "source": [
    "# with pd.option_context('display.max_rows', None,\n",
    "#                        'display.max_columns', None,\n",
    "#                        'display.precision', 3,\n",
    "#                        ):\n",
    "#     print(df)"
   ]
  },
  {
   "cell_type": "code",
   "execution_count": 106,
   "id": "0b07ae7e-8010-45cc-aaf5-6c52e8462816",
   "metadata": {},
   "outputs": [
    {
     "name": "stderr",
     "output_type": "stream",
     "text": [
      "/var/folders/nc/1czn_dfn327cnn5jm9s4xv7w0000gn/T/ipykernel_69606/590842208.py:5: FutureWarning: The default value of regex will change from True to False in a future version.\n",
      "  df.loc[paranthesis, date_range] = df.loc[paranthesis, date_range].str.replace(r'\\(', '-').str.replace(r'\\)', '', regex=True)\n"
     ]
    }
   ],
   "source": [
    "# All modifications of dataframe\n",
    "df.iloc[8, df.columns.get_loc('metric_type')] = 'PAYROLL TAXES OPS'\n",
    "df.iloc[39, df.columns.get_loc('metric_type')] = 'PAYROLL TAXES ADMIN'\n",
    "paranthesis = df[date_range].str.contains(r'\\(|\\)')\n",
    "df.loc[paranthesis, date_range] = df.loc[paranthesis, date_range].str.replace(r'\\(', '-').str.replace(r'\\)', '', regex=True)\n",
    "df[date_range] = df[date_range].str.replace('[\\$,]', '', regex=True).astype(float)\n",
    "\n"
   ]
  },
  {
   "cell_type": "code",
   "execution_count": 107,
   "id": "4bd02c30-ba4d-4c94-8c41-e1fbb4247b32",
   "metadata": {},
   "outputs": [],
   "source": [
    "# with pd.option_context('display.max_rows', None,\n",
    "#                        'display.max_columns', None,\n",
    "#                        'display.precision', 3,\n",
    "#                        ):\n",
    "#     print(df)"
   ]
  },
  {
   "cell_type": "code",
   "execution_count": 108,
   "id": "c75d227a-e9e1-4e27-9f5e-1bcc44afd379",
   "metadata": {},
   "outputs": [],
   "source": [
    "# columns for cost: total cost of sales, officer/admin salaries, payroll taxes, commercial ins, telephone, internet, property tax, \n",
    "# credit card commission, maint salary, payroll tax, pest, eqpt rep, fire and safety, swimming pool, maint&serv, plumbing, elec, trash&waste, \n",
    "# maint supp, total utilities, auto/gen insurance, building ins, \n",
    "rows_to_sum = ['Total Cost Of Sales', 'OFFICERS SALARIES', 'ADMINISTRATIVE SALARIES', 'PAYROLL TAXES ADMIN', 'COMMERCIAL INSURANCE', \n",
    "               'TELEPHONE', 'INTERNET & COMPUTER', 'PROPERTY TAXES', 'AUTO INSURANCE']\n",
    "df['metric_type'] = df['metric_type'].str.lower().str.strip()\n",
    "rows_to_sum = [row.lower().strip() for row in rows_to_sum]\n",
    "# print(rows_to_sum)\n",
    "temp = df['metric_type'].isin(rows_to_sum)\n",
    "selectRows = df[temp]\n",
    "# print(selectRows)\n",
    "totalOpCostCurrYr = selectRows[date_range].sum()"
   ]
  },
  {
   "cell_type": "code",
   "execution_count": 109,
   "id": "466dee78-b4c4-43e1-b54f-d605e5ae3d22",
   "metadata": {},
   "outputs": [
    {
     "name": "stdout",
     "output_type": "stream",
     "text": [
      "2087367.75\n"
     ]
    }
   ],
   "source": [
    "print(totalOpCostCurrYr)"
   ]
  },
  {
   "cell_type": "code",
   "execution_count": 110,
   "id": "e2000fd1-b801-4bd5-8891-fa5b5ed7038c",
   "metadata": {},
   "outputs": [
    {
     "name": "stdin",
     "output_type": "stream",
     "text": [
      "How many rooms sold? 26076\n"
     ]
    },
    {
     "name": "stdout",
     "output_type": "stream",
     "text": [
      "01/01/23-09/30/23: $80.05\n"
     ]
    }
   ],
   "source": [
    "roomsSold = input(\"How many rooms sold?\")\n",
    "# retrieve total rooms sold from VM or NA reports\n",
    "# e.g: 2023 total rooms YTD = 26076\n",
    "cPORCurrYr = totalOpCostCurrYr/int(roomsSold)\n",
    "print(f\"{date_range}: ${round(cPORCurrYr, 2)}\")"
   ]
  },
  {
   "cell_type": "code",
   "execution_count": null,
   "id": "0a42a745-32d7-497c-9175-2be9357995c2",
   "metadata": {},
   "outputs": [],
   "source": []
  }
 ],
 "metadata": {
  "kernelspec": {
   "display_name": "Python 3 (ipykernel)",
   "language": "python",
   "name": "python3"
  },
  "language_info": {
   "codemirror_mode": {
    "name": "ipython",
    "version": 3
   },
   "file_extension": ".py",
   "mimetype": "text/x-python",
   "name": "python",
   "nbconvert_exporter": "python",
   "pygments_lexer": "ipython3",
   "version": "3.10.5"
  }
 },
 "nbformat": 4,
 "nbformat_minor": 5
}
