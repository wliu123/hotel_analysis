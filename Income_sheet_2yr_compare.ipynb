{
 "cells": [
  {
   "cell_type": "code",
   "execution_count": 53,
   "id": "2dff0e03-7f0c-4dce-b9c3-bee81552c6e9",
   "metadata": {},
   "outputs": [],
   "source": [
    "import pandas as pd\n",
    "from datetime import date\n",
    "import numpy as np\n",
    "import matplotlib.pyplot as plt\n",
    "import plotly.express as px\n",
    "from plotly.subplots import make_subplots\n",
    "import plotly.graph_objects as go"
   ]
  },
  {
   "cell_type": "code",
   "execution_count": 54,
   "id": "ae5d889e-c3e5-49da-be1e-a157f7491df9",
   "metadata": {},
   "outputs": [],
   "source": [
    "last_fy = date.today().year - 1\n",
    "prev_prev_fy = date.today().year - 2"
   ]
  },
  {
   "cell_type": "code",
   "execution_count": 55,
   "id": "9e304f32-577a-4f1c-8147-3e1aba1d3995",
   "metadata": {},
   "outputs": [
    {
     "name": "stdout",
     "output_type": "stream",
     "text": [
      "2023\n"
     ]
    }
   ],
   "source": [
    "print(last_fy)"
   ]
  },
  {
   "cell_type": "code",
   "execution_count": 56,
   "id": "9e8d2ce2-34bf-44d4-99c2-ba94c3b8d77e",
   "metadata": {},
   "outputs": [],
   "source": [
    "modcols = {\n",
    "    'Unnamed: 0' : 'metric_type',\n",
    "    'Unnamed: 1' : f\"{last_fy} Totals\",\n",
    "    'Unnamed: 2' : f\"Perc of {last_fy}\",\n",
    "    'Unnamed: 3' : f\"{prev_prev_fy} Totals\",\n",
    "    'Unnamed: 4' : f\"Perc of {prev_prev_fy}\"\n",
    "}"
   ]
  },
  {
   "cell_type": "code",
   "execution_count": 57,
   "id": "a0fb981e-e860-43ce-8655-59f87deba727",
   "metadata": {},
   "outputs": [],
   "source": [
    "df = pd.read_csv(\"data/2yrcompare/bwp_2023_compare.csv\", index_col = False)"
   ]
  },
  {
   "cell_type": "code",
   "execution_count": 58,
   "id": "bf736071-18bf-48c4-b254-f106a12d48e9",
   "metadata": {},
   "outputs": [],
   "source": [
    "# df.head()"
   ]
  },
  {
   "cell_type": "code",
   "execution_count": 59,
   "id": "565c975a-eb8e-45aa-9f89-bf7a2f24771a",
   "metadata": {},
   "outputs": [],
   "source": [
    "df = df.rename(columns = modcols)"
   ]
  },
  {
   "cell_type": "code",
   "execution_count": 60,
   "id": "90c69f09-74f4-4adc-83d3-08e880d99517",
   "metadata": {},
   "outputs": [],
   "source": [
    "df = df.dropna(axis=0)"
   ]
  },
  {
   "cell_type": "code",
   "execution_count": 61,
   "id": "3dc724f3-f4c2-40f6-8fea-bbd07e6cc2d7",
   "metadata": {},
   "outputs": [],
   "source": [
    "paranthesis1 = df[f\"{last_fy} Totals\"].str.contains(r'\\(|\\)')\n",
    "paranthesis2 = df[f\"{prev_prev_fy} Totals\"].str.contains(r'\\(|\\)')"
   ]
  },
  {
   "cell_type": "code",
   "execution_count": 62,
   "id": "7cec0827-b616-48bd-af7d-9caea201ff18",
   "metadata": {},
   "outputs": [
    {
     "name": "stderr",
     "output_type": "stream",
     "text": [
      "/var/folders/nc/1czn_dfn327cnn5jm9s4xv7w0000gn/T/ipykernel_49763/4180604813.py:1: FutureWarning: The default value of regex will change from True to False in a future version.\n",
      "  df.loc[paranthesis1, f\"{last_fy} Totals\"] = df.loc[paranthesis1, f\"{last_fy} Totals\"].str.replace(r'\\(', '-').str.replace(r'\\)', '', regex=True)\n",
      "/var/folders/nc/1czn_dfn327cnn5jm9s4xv7w0000gn/T/ipykernel_49763/4180604813.py:3: FutureWarning: The default value of regex will change from True to False in a future version.\n",
      "  df.loc[paranthesis2, f\"{prev_prev_fy} Totals\"] = df.loc[paranthesis2, f\"{prev_prev_fy} Totals\"].str.replace(r'\\(', '-').str.replace(r'\\)', '', regex=True)\n"
     ]
    }
   ],
   "source": [
    "df.loc[paranthesis1, f\"{last_fy} Totals\"] = df.loc[paranthesis1, f\"{last_fy} Totals\"].str.replace(r'\\(', '-').str.replace(r'\\)', '', regex=True)\n",
    "df[f\"{last_fy} Totals\"] = df[f\"{last_fy} Totals\"].str.replace('[\\$,]', '', regex=True).astype(float)\n",
    "df.loc[paranthesis2, f\"{prev_prev_fy} Totals\"] = df.loc[paranthesis2, f\"{prev_prev_fy} Totals\"].str.replace(r'\\(', '-').str.replace(r'\\)', '', regex=True)\n",
    "df[f\"{prev_prev_fy} Totals\"] = df[f\"{prev_prev_fy} Totals\"].str.replace('[\\$,]', '', regex=True).astype(float)"
   ]
  },
  {
   "cell_type": "code",
   "execution_count": 63,
   "id": "12a6cce9-4994-4e3f-95d2-08cc215798ad",
   "metadata": {},
   "outputs": [],
   "source": [
    "# df.head()"
   ]
  },
  {
   "cell_type": "code",
   "execution_count": 64,
   "id": "7df353a1-c55e-4a02-9186-f513d7f0446b",
   "metadata": {},
   "outputs": [],
   "source": [
    "# df = df.reset_index(drop=True)\n",
    "# print(df.iloc[7:12])"
   ]
  },
  {
   "cell_type": "code",
   "execution_count": 65,
   "id": "3ac7ca4f-072d-42f3-b3e5-ae362453bc95",
   "metadata": {},
   "outputs": [],
   "source": [
    "# with pd.option_context('display.max_rows', None,\n",
    "#                        'display.max_columns', None,\n",
    "#                        'display.precision', 3,\n",
    "#                        ):\n",
    "#     print(df)\n"
   ]
  },
  {
   "cell_type": "code",
   "execution_count": 66,
   "id": "dd86ac5c-9e5e-4fc3-b7ff-60d5de04dfda",
   "metadata": {},
   "outputs": [],
   "source": [
    "# All modifications of dataframe\n",
    "df.iloc[10, df.columns.get_loc('metric_type')] = 'PAYROLL TAXES OPS'\n",
    "df.iloc[45, df.columns.get_loc('metric_type')] = 'PAYROLL TAXES ADMIN'\n",
    "df.iloc[24, df.columns.get_loc('metric_type')] = 'PAYROLL TAXES MAINT'\n",
    "df = df.drop(columns=[f\"Perc of {last_fy}\", f\"Perc of {prev_prev_fy}\"], axis = 1)\n",
    "# df = df.drop(columns=[f\"Perc of {last_fy}\", f\"Perc of {prev_prev_fy}\"], axis = 1)\n",
    "# df['Percent Diff'] = np.where(df[f\"{prev_prev_fy} Totals\"] != 0, round(((df[f\"{last_fy} Totals\"] - df[f\"{prev_prev_fy} Totals\"])/df[f\"{prev_prev_fy} Totals\"])*100, 2), 100)"
   ]
  },
  {
   "cell_type": "code",
   "execution_count": 67,
   "id": "9ba60edf-42aa-4380-b90f-bc2289a4bc10",
   "metadata": {},
   "outputs": [],
   "source": [
    "# print(df.columns)"
   ]
  },
  {
   "cell_type": "code",
   "execution_count": 68,
   "id": "eec376bb-e57b-4c68-afb1-d933c028d87b",
   "metadata": {},
   "outputs": [],
   "source": [
    "df['Percent Diff'] = np.where(df[f\"{prev_prev_fy} Totals\"] != 0, round(((df[f\"{last_fy} Totals\"] - df[f\"{prev_prev_fy} Totals\"])/df[f\"{prev_prev_fy} Totals\"])*100, 2), 100)"
   ]
  },
  {
   "cell_type": "code",
   "execution_count": 69,
   "id": "da4f6089-59f6-4bb9-b2da-45dbf94e516b",
   "metadata": {},
   "outputs": [],
   "source": [
    "# with pd.option_context('display.max_rows', None,\n",
    "#                        'display.max_columns', None,\n",
    "#                        'display.precision', 6,\n",
    "#                        ):\n",
    "#     print(df)"
   ]
  },
  {
   "cell_type": "markdown",
   "id": "bf05c9c1-8bb7-475f-8520-cc7e8140b1dd",
   "metadata": {},
   "source": [
    "#### CALCULATIONS OF CPOR"
   ]
  },
  {
   "cell_type": "code",
   "execution_count": 70,
   "id": "7aa76ea9-0a22-41c2-b901-271de3ede3f9",
   "metadata": {},
   "outputs": [],
   "source": [
    "# columns for cost: totalcost of revenue, officer/admin salaries, payroll taxes, commercial ins, telephone, internet, property tax, \n",
    "# credit card commission, maint salary, payroll tax, pest, eqpt rep, fire and safety, swimming pool, maint&serv, plumbing, elec, trash&waste, \n",
    "# maint supp, total utilities, auto/gen insurance, building ins, \n",
    "rows_to_sum = ['Total Cost Of Revenue', 'OFFICERS SALARIES', 'ADMINISTRATIVE SALARIES', 'PAYROLL TAXES ADMIN', 'COMMERCIAL INSURANCE', \n",
    "               'TELEPHONE', 'INTERNET & COMPUTER', 'PROPERTY TAXES', 'CREDIT CARD COMMISSIONS', 'MAINTENANCE SALARIES', 'PAYROLL TAXES MAINT',\n",
    "               'PEST CONTROL', 'EQUIPMENT REPAIR-GENERAL', 'FIRE & SAFETY', 'SWIMMING POOL', 'MAINTENANCE & SERV AGRMT', 'PLUMBING', \n",
    "               'ELECTRICAL & MECHANICAL', 'TRASH & WASTE REMOVAL', 'MAINTENANCE SUPPLIES', 'Total Utilities Expense', 'AUTO INSURANCE', \n",
    "               'GENERAL INSURANCE', 'BUILDING INSURANCE']\n",
    "df['metric_type'] = df['metric_type'].str.lower().str.strip()\n",
    "rows_to_sum = [row.lower().strip() for row in rows_to_sum]\n",
    "temp = df['metric_type'].isin(rows_to_sum)\n",
    "selectRows = df[temp]\n",
    "totalOpCostCurrYr = selectRows[f\"{last_fy} Totals\"].sum()\n",
    "totalOpCostPrevYr = selectRows[f\"{prev_prev_fy} Totals\"].sum()"
   ]
  },
  {
   "cell_type": "code",
   "execution_count": 18,
   "id": "a890b0ab-97f7-45db-ab4d-a8c2a77a1374",
   "metadata": {},
   "outputs": [
    {
     "name": "stdin",
     "output_type": "stream",
     "text": [
      "How many rooms sold? 35109\n"
     ]
    },
    {
     "name": "stdout",
     "output_type": "stream",
     "text": [
      "2022: $85.94\n"
     ]
    }
   ],
   "source": [
    "roomsSoldCurrYr = input(\"How many rooms sold?\")\n",
    "# retrieve total rooms sold from VM or NA reports\n",
    "# e.g: 2022 total rooms = 35109\n",
    "cPORCurrYr = totalOpCostCurrYr/int(roomsSoldCurrYr)\n",
    "print(f\"{last_fy}: ${round(cPORCurrYr, 2)}\")"
   ]
  },
  {
   "cell_type": "code",
   "execution_count": 19,
   "id": "9156aeb3-ff12-415a-bab9-51d58b02ef9b",
   "metadata": {},
   "outputs": [
    {
     "name": "stdin",
     "output_type": "stream",
     "text": [
      "How many rooms sold? 34811\n"
     ]
    },
    {
     "name": "stdout",
     "output_type": "stream",
     "text": [
      "2021: $65.01\n"
     ]
    }
   ],
   "source": [
    "roomsSoldPrevYr = input(\"How many rooms sold?\")\n",
    "# retrieve total rooms sold from VM or NA reports\n",
    "# e.g: 2021 total rooms = 34811\n",
    "cPORPrevYr = totalOpCostPrevYr/int(roomsSoldPrevYr)\n",
    "print(f\"{prev_prev_fy}: ${round(cPORPrevYr, 2)}\")"
   ]
  },
  {
   "cell_type": "code",
   "execution_count": 20,
   "id": "c889b89f-c366-4911-ab1e-06b426bfa231",
   "metadata": {},
   "outputs": [
    {
     "name": "stdout",
     "output_type": "stream",
     "text": [
      "                 metric_type  2022 Totals  2021 Totals  Percent Diff\n",
      "20     total cost of revenue   1642520.57   1188779.98         38.17\n",
      "22         officers salaries    260000.00    208416.52         24.75\n",
      "23   administrative salaries    243685.44    193658.00         25.83\n",
      "24       payroll taxes admin     39756.85     31892.43         24.66\n",
      "25      commercial insurance     30740.68      1000.00       2974.07\n",
      "31                 telephone     16172.54      6245.76        158.94\n",
      "32       internet & computer     87073.62     71894.79         21.11\n",
      "33   credit card commissions    120497.72     75523.21         59.55\n",
      "40            property taxes     80048.70     87996.48         -9.03\n",
      "44      maintenance salaries     52581.12     43806.80         20.03\n",
      "45       payroll taxes maint     40365.24     30408.48         32.74\n",
      "46              pest control     10347.70      2486.85        316.10\n",
      "47  equipment repair-general     26992.05      2986.42        803.83\n",
      "48             fire & safety     13150.00      3464.30        279.59\n",
      "50             swimming pool      7567.50      4792.97         57.89\n",
      "51  maintenance & serv agrmt     10177.18     20183.17        -49.58\n",
      "53                  plumbing     18506.00     12543.00         47.54\n",
      "54   electrical & mechanical      1050.00         0.00        100.00\n",
      "58     trash & waste removal     16887.07     12784.86         32.09\n",
      "61      maintenance supplies     43549.88     49168.80        -11.43\n",
      "69   total utilities expense    239525.63    201260.90         19.01\n",
      "75            auto insurance      9991.34      7174.48         39.26\n",
      "76         general insurance         0.00      1380.00       -100.00\n",
      "77        building insurance      6253.00      5253.00         19.04\n"
     ]
    }
   ],
   "source": [
    "print(selectRows)"
   ]
  },
  {
   "cell_type": "markdown",
   "id": "e5752f05-0e72-4bda-b596-e4d00b15112c",
   "metadata": {},
   "source": [
    "#### DISPLAY PERC OF TOTAL COLUMN FOR EXPENSE INSIGHT"
   ]
  },
  {
   "cell_type": "code",
   "execution_count": 21,
   "id": "6b2de9cb-4857-44ff-90b1-0f67cea8a2b8",
   "metadata": {},
   "outputs": [],
   "source": [
    "totalCostRev = df.iloc[20][f\"{last_fy} Totals\"]\n",
    "totalAdminRev = df.iloc[43][f\"{last_fy} Totals\"]\n",
    "totalMaintRev = df.iloc[62][f\"{last_fy} Totals\"]"
   ]
  },
  {
   "cell_type": "code",
   "execution_count": 22,
   "id": "23345ca0-e09d-4290-86eb-d532dc140018",
   "metadata": {},
   "outputs": [
    {
     "name": "stdout",
     "output_type": "stream",
     "text": [
      "                       metric_type  2022 Totals  2021 Totals  Percent Diff  \\\n",
      "4                 front desk clerk    164188.66    140538.56         16.83   \n",
      "5                      housekeeper    474609.95    350408.83         35.44   \n",
      "6                  café attendants      1003.00      4190.00        -76.06   \n",
      "7                payroll taxes ops     18203.40     16550.54          9.99   \n",
      "8                 pension expenses    284463.63    169969.75         67.36   \n",
      "9           workers comp insurance     81203.21     84179.76         -3.54   \n",
      "10                  linen purchase     18338.80      2657.52        590.07   \n",
      "11                  guest supplies     71275.03     22951.31        210.55   \n",
      "12              guest dry cleaning        29.50         0.00        100.00   \n",
      "13                        uniforms         0.00       613.75       -100.00   \n",
      "14                laundry supplies     17622.11     10352.86         70.21   \n",
      "15        commission travel agents    206358.92    175975.70         17.27   \n",
      "16           continental breakfast    140218.48     82544.42         69.87   \n",
      "17             franchise royalties     79959.62     69894.21         14.40   \n",
      "18                      reward fee     85046.26     48228.73         76.34   \n",
      "19       telephone monthly service         0.00      9724.04       -100.00   \n",
      "20           total cost of revenue   1642520.57   1188779.98         38.17   \n",
      "21                    gross profit   3242162.52   3298103.61         -1.70   \n",
      "22               officers salaries    260000.00    208416.52         24.75   \n",
      "23         administrative salaries    243685.44    193658.00         25.83   \n",
      "24             payroll taxes admin     39756.85     31892.43         24.66   \n",
      "25            commercial insurance     30740.68      1000.00       2974.07   \n",
      "26                 office supplies     16994.15     13263.79         28.12   \n",
      "27                licenses/permits      3139.50      1653.33         89.89   \n",
      "28             education & seminar      2627.00       795.00        230.44   \n",
      "29                  travel expense      8181.99     10388.89        -21.24   \n",
      "30                   entertainment     24739.88     13241.20         86.84   \n",
      "31                       telephone     16172.54      6245.76        158.94   \n",
      "32             internet & computer     87073.62     71894.79         21.11   \n",
      "33         credit card commissions    120497.72     75523.21         59.55   \n",
      "34            employee recruitment     15409.88     15630.94         -1.41   \n",
      "35              postage & delivery        55.39       160.31        -65.45   \n",
      "36            bank service charges        43.48       954.19        -95.44   \n",
      "37            membership dues/fees      7316.08      5567.94         31.40   \n",
      "38                  management fee    130000.00    156700.00        -17.04   \n",
      "39           gasoline/auto expense     13968.04     19381.62        -27.93   \n",
      "40                  property taxes     80048.70     87996.48         -9.03   \n",
      "41       legal & professional fees     18452.55     29011.80        -36.40   \n",
      "42                        donation       768.00      7083.38        -89.16   \n",
      "43  total administrative & general   1119671.49    950459.58         17.80   \n",
      "44            maintenance salaries     52581.12     43806.80         20.03   \n",
      "45             payroll taxes maint     40365.24     30408.48         32.74   \n",
      "46                    pest control     10347.70      2486.85        316.10   \n",
      "47        equipment repair-general     26992.05      2986.42        803.83   \n",
      "48                   fire & safety     13150.00      3464.30        279.59   \n",
      "49          computer equipment-pms         0.00       675.00       -100.00   \n",
      "50                   swimming pool      7567.50      4792.97         57.89   \n",
      "51        maintenance & serv agrmt     10177.18     20183.17        -49.58   \n",
      "52                security expense      1260.65      3403.73        -62.96   \n",
      "53                        plumbing     18506.00     12543.00         47.54   \n",
      "54         electrical & mechanical      1050.00         0.00        100.00   \n",
      "55                       elevators     13312.58      4708.56        182.73   \n",
      "56                building repairs     11965.00         0.00        100.00   \n",
      "57            landscaping/exterior      7800.00      7800.00          0.00   \n",
      "58           trash & waste removal     16887.07     12784.86         32.09   \n",
      "59           painting & decorating         0.00      1501.64       -100.00   \n",
      "60                     parking lot         0.00     48000.00       -100.00   \n",
      "61            maintenance supplies     43549.88     49168.80        -11.43   \n",
      "62     total repairs & maintenance    275511.97    248714.58         10.77   \n",
      "63       advertising-newspaper/mag     61742.70     51460.91         19.98   \n",
      "\n",
      "    Perc of Total  \n",
      "4        9.996140  \n",
      "5       28.895221  \n",
      "6        0.061065  \n",
      "7        1.108260  \n",
      "8       17.318726  \n",
      "9        4.943817  \n",
      "10       1.116504  \n",
      "11       4.339369  \n",
      "12       0.001796  \n",
      "13       0.000000  \n",
      "14       1.072870  \n",
      "15      12.563552  \n",
      "16       8.536787  \n",
      "17       4.868105  \n",
      "18       5.177790  \n",
      "19       0.000000  \n",
      "20       0.000000  \n",
      "21       0.000000  \n",
      "22      23.221097  \n",
      "23      21.764012  \n",
      "24       3.550760  \n",
      "25       2.745509  \n",
      "26       1.517780  \n",
      "27       0.280395  \n",
      "28       0.234622  \n",
      "29       0.730749  \n",
      "30       2.209566  \n",
      "31       1.444400  \n",
      "32       7.776711  \n",
      "33      10.761882  \n",
      "34       1.376286  \n",
      "35       0.004947  \n",
      "36       0.003883  \n",
      "37       0.653413  \n",
      "38      11.610548  \n",
      "39       1.247512  \n",
      "40       7.149302  \n",
      "41       1.648032  \n",
      "42       0.068592  \n",
      "43       0.000000  \n",
      "44      19.084877  \n",
      "45      14.650993  \n",
      "46       3.755808  \n",
      "47       9.797052  \n",
      "48       4.772932  \n",
      "49       0.000000  \n",
      "50       2.746705  \n",
      "51       3.693916  \n",
      "52       0.457566  \n",
      "53       6.716950  \n",
      "54       0.381109  \n",
      "55       4.831943  \n",
      "56       4.342824  \n",
      "57       2.831093  \n",
      "58       6.129342  \n",
      "59       0.000000  \n",
      "60       0.000000  \n",
      "61      15.806892  \n",
      "62       0.000000  \n",
      "63       0.000000  \n"
     ]
    }
   ],
   "source": [
    "#to calculate perc of total column based off of total cost rev, total admin rev and total maint rev\n",
    "df['Perc of Total'] = 0\n",
    "df.loc[4:19, 'Perc of Total'] = (df.loc[4:20, f\"{last_fy} Totals\"]/totalCostRev)*100\n",
    "df.loc[22:42, 'Perc of Total'] = (df.loc[22:42, f\"{last_fy} Totals\"]/totalAdminRev)*100\n",
    "df.loc[44:61, 'Perc of Total'] = (df.loc[44:61, f\"{last_fy} Totals\"]/totalMaintRev)*100\n",
    "print(df.loc[4:63])"
   ]
  },
  {
   "cell_type": "code",
   "execution_count": 28,
   "id": "75e99060-155b-4a40-8d45-f714910c8df2",
   "metadata": {},
   "outputs": [],
   "source": [
    "import plotly.io as pio\n",
    "pio.renderers.default = \"iframe\""
   ]
  },
  {
   "cell_type": "code",
   "execution_count": 43,
   "id": "eb065cbc-cd74-47c0-8e12-0227e52fdcba",
   "metadata": {},
   "outputs": [
    {
     "name": "stdout",
     "output_type": "stream",
     "text": [
      "This is the format of your plot grid:\n",
      "[ (1,1)  ]  [ (1,2)  ]  [ (1,3)  ]\n",
      "\n"
     ]
    },
    {
     "data": {
      "text/html": [
       "<iframe\n",
       "    scrolling=\"no\"\n",
       "    width=\"100%\"\n",
       "    height=\"545px\"\n",
       "    src=\"iframe_figures/figure_43.html\"\n",
       "    frameborder=\"0\"\n",
       "    allowfullscreen\n",
       "></iframe>\n"
      ]
     },
     "metadata": {},
     "output_type": "display_data"
    }
   ],
   "source": [
    "#visualization of perc of total column to view the pcts\n",
    "costSlice = df.iloc[4:20]\n",
    "adminSlice = df.iloc[22:43]\n",
    "maintSlice = df.iloc[44:62]\n",
    "\n",
    "titles = ['Cost Perc Total', 'Admin Perc Total', 'Maint Perc Total']\n",
    "\n",
    "fig = make_subplots(rows=1,cols=3, subplot_titles=titles, specs=[[{\"type\":\"domain\"} for _ in range(3)] for _ in range(1)], print_grid=True)  \n",
    "for i, data_slice in enumerate([costSlice, adminSlice, maintSlice]):\n",
    "    label = data_slice['metric_type']\n",
    "    size = data_slice['Perc of Total']\n",
    "    fig_pie=go.Pie(values=size, labels=label, showlegend=False, textposition='inside', textinfo='percent', hoverinfo='label+percent')\n",
    "    fig.add_trace(fig_pie, row=1, col=i+1)\n",
    "\n",
    "fig.show()\n"
   ]
  },
  {
   "cell_type": "markdown",
   "id": "c0dc7127-5c93-4c48-8898-9b9518225cfe",
   "metadata": {},
   "source": [
    "### Expense Ratio"
   ]
  },
  {
   "cell_type": "code",
   "execution_count": 45,
   "id": "49f2ca8e-5a15-4a7f-8f3f-7ba2d21cacdc",
   "metadata": {},
   "outputs": [
    {
     "name": "stdout",
     "output_type": "stream",
     "text": [
      "                   metric_type  2022 Totals  2021 Totals  Percent Diff  \\\n",
      "0          meeting room rental     69576.03     19399.03        258.66   \n",
      "1                  room rental   4819339.23   4499654.34          7.10   \n",
      "2                       refund     -4232.17    -32169.78        -86.84   \n",
      "3                total revenue   4884683.09   4486883.59          8.87   \n",
      "4             front desk clerk    164188.66    140538.56         16.83   \n",
      "..                         ...          ...          ...           ...   \n",
      "83                     penalty      3363.98       885.80        279.77   \n",
      "84  provision for in tax-state      8990.00     13366.00        -32.74   \n",
      "85    provision for in tax-pte     55738.00     93092.00        -40.13   \n",
      "86          total other income  -1122836.17   -373270.46        200.81   \n",
      "87           net income (loss)    390201.12   1462550.10        -73.32   \n",
      "\n",
      "    Perc of Total  expense_ratio  \n",
      "0         0.00000       0.000000  \n",
      "1         0.00000       0.000000  \n",
      "2         0.00000       0.000000  \n",
      "3         0.00000       0.000000  \n",
      "4         9.99614       1.897407  \n",
      "..            ...            ...  \n",
      "83        0.00000      31.541150  \n",
      "84        0.00000      -3.691094  \n",
      "85        0.00000      -4.524239  \n",
      "86        0.00000      22.639233  \n",
      "87        0.00000      -8.266065  \n",
      "\n",
      "[88 rows x 6 columns]\n"
     ]
    }
   ],
   "source": [
    "df['expense_ratio'] = 0\n",
    "df.loc[4:88, 'expense_ratio'] = df.loc[4:88, 'Percent Diff']/df.loc[3, 'Percent Diff']\n",
    "print(df)"
   ]
  },
  {
   "cell_type": "code",
   "execution_count": 57,
   "id": "f5fe2e5e-c700-4a58-ae7a-bc02742d64e4",
   "metadata": {},
   "outputs": [
    {
     "data": {
      "text/html": [
       "<iframe\n",
       "    scrolling=\"no\"\n",
       "    width=\"100%\"\n",
       "    height=\"545px\"\n",
       "    src=\"iframe_figures/figure_57.html\"\n",
       "    frameborder=\"0\"\n",
       "    allowfullscreen\n",
       "></iframe>\n"
      ]
     },
     "metadata": {},
     "output_type": "display_data"
    }
   ],
   "source": [
    "cost_ops = df[4:20].copy()\n",
    "admin_exp = df[22:43].copy()\n",
    "maint_exp = df[44:62].copy()\n",
    "ads_exp = df[63:65].copy()\n",
    "util_exp = df[66:69].copy()\n",
    "\n",
    "cost_ops['category'] = 'Cost Ops'\n",
    "admin_exp['category'] = 'Admin Expense'\n",
    "maint_exp['category'] = 'Maint Expense'\n",
    "ads_exp['category'] = 'Ads Expense'\n",
    "util_exp['category'] = 'Util Expense'\n",
    "\n",
    "combined_df = pd.concat([cost_ops, admin_exp, maint_exp, ads_exp, util_exp], ignore_index=True)\n",
    "\n",
    "bar = px.bar(combined_df, x='metric_type', y='expense_ratio', color = 'category', labels={'Expense Efficiency Ratio': 'Expense Efficiency Ratio'})\n",
    "bar.update_yaxes(type='log')\n",
    "bar.update_layout(\n",
    "    title='Expense Efficiency Ratio by Metric Type',\n",
    "    xaxis_title='Metric Type',\n",
    "    yaxis_title='Expense Efficiency Ratio'\n",
    ")\n",
    "bar.add_annotation(\n",
    "    text=\"Values > 1 indicate expense grew YoY compared to revenue for this metric\",\n",
    "    xref=\"paper\", yref=\"paper\",\n",
    "    x=1, y=1.1,\n",
    "    showarrow=False,\n",
    "    font=dict(size=12)\n",
    ")\n",
    "bar.show()                                                             "
   ]
  },
  {
   "cell_type": "code",
   "execution_count": null,
   "id": "d9b42909-7a0a-4173-9044-508a9774fa49",
   "metadata": {},
   "outputs": [],
   "source": []
  }
 ],
 "metadata": {
  "kernelspec": {
   "display_name": "Python 3 (ipykernel)",
   "language": "python",
   "name": "python3"
  },
  "language_info": {
   "codemirror_mode": {
    "name": "ipython",
    "version": 3
   },
   "file_extension": ".py",
   "mimetype": "text/x-python",
   "name": "python",
   "nbconvert_exporter": "python",
   "pygments_lexer": "ipython3",
   "version": "3.10.5"
  }
 },
 "nbformat": 4,
 "nbformat_minor": 5
}
