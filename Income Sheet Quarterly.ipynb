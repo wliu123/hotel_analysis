{
 "cells": [
  {
   "cell_type": "code",
   "execution_count": 64,
   "id": "6532b9a1-3967-459b-a362-81fea3eaf2fd",
   "metadata": {},
   "outputs": [],
   "source": [
    "import pandas as pd\n",
    "from datetime import date, datetime\n",
    "import numpy as np\n",
    "import matplotlib.pyplot as plt\n",
    "import plotly.express as px\n",
    "from plotly.subplots import make_subplots\n",
    "import plotly.graph_objects as go\n",
    "import os\n",
    "import glob"
   ]
  },
  {
   "cell_type": "code",
   "execution_count": 65,
   "id": "f159305a-3e45-46a2-b555-a4bc8de8377b",
   "metadata": {},
   "outputs": [
    {
     "name": "stdout",
     "output_type": "stream",
     "text": [
      "['data/Quarterly files/2023 Profit and Loss Q3.csv']\n"
     ]
    }
   ],
   "source": [
    "file_path = \"data/Quarterly files\"\n",
    "csv_files = glob.glob(os.path.join(file_path, '*.csv'))\n",
    "print(csv_files)"
   ]
  },
  {
   "cell_type": "code",
   "execution_count": 66,
   "id": "94f3c7fd-821e-425a-9d5b-29201bd5f728",
   "metadata": {},
   "outputs": [],
   "source": [
    "latest_file = max(csv_files, key=os.path.getmtime)"
   ]
  },
  {
   "cell_type": "code",
   "execution_count": 67,
   "id": "e2d3f7d9-28e9-4bd4-956f-ca839388175c",
   "metadata": {},
   "outputs": [],
   "source": [
    "df = pd.read_csv(latest_file, index_col = False)"
   ]
  },
  {
   "cell_type": "code",
   "execution_count": 68,
   "id": "28697392-4f26-4c41-a878-ca905470920b",
   "metadata": {},
   "outputs": [
    {
     "data": {
      "text/html": [
       "<div>\n",
       "<style scoped>\n",
       "    .dataframe tbody tr th:only-of-type {\n",
       "        vertical-align: middle;\n",
       "    }\n",
       "\n",
       "    .dataframe tbody tr th {\n",
       "        vertical-align: top;\n",
       "    }\n",
       "\n",
       "    .dataframe thead th {\n",
       "        text-align: right;\n",
       "    }\n",
       "</style>\n",
       "<table border=\"1\" class=\"dataframe\">\n",
       "  <thead>\n",
       "    <tr style=\"text-align: right;\">\n",
       "      <th></th>\n",
       "      <th>Unnamed: 0</th>\n",
       "      <th>Unnamed: 1</th>\n",
       "      <th>Unnamed: 2</th>\n",
       "      <th>Unnamed: 3</th>\n",
       "      <th>Unnamed: 4</th>\n",
       "      <th>Unnamed: 5</th>\n",
       "      <th>Unnamed: 6</th>\n",
       "      <th>Unnamed: 7</th>\n",
       "    </tr>\n",
       "  </thead>\n",
       "  <tbody>\n",
       "    <tr>\n",
       "      <th>0</th>\n",
       "      <td>BJ WIN HOSPITALITY INC.</td>\n",
       "      <td>NaN</td>\n",
       "      <td>NaN</td>\n",
       "      <td>NaN</td>\n",
       "      <td>NaN</td>\n",
       "      <td>NaN</td>\n",
       "      <td>NaN</td>\n",
       "      <td>NaN</td>\n",
       "    </tr>\n",
       "    <tr>\n",
       "      <th>1</th>\n",
       "      <td>Profit and Loss</td>\n",
       "      <td>NaN</td>\n",
       "      <td>NaN</td>\n",
       "      <td>NaN</td>\n",
       "      <td>NaN</td>\n",
       "      <td>NaN</td>\n",
       "      <td>NaN</td>\n",
       "      <td>NaN</td>\n",
       "    </tr>\n",
       "    <tr>\n",
       "      <th>2</th>\n",
       "      <td>For the Nine Months Ending September 30, 2023</td>\n",
       "      <td>NaN</td>\n",
       "      <td>NaN</td>\n",
       "      <td>NaN</td>\n",
       "      <td>NaN</td>\n",
       "      <td>NaN</td>\n",
       "      <td>NaN</td>\n",
       "      <td>NaN</td>\n",
       "    </tr>\n",
       "    <tr>\n",
       "      <th>3</th>\n",
       "      <td>NaN</td>\n",
       "      <td>NaN</td>\n",
       "      <td>NaN</td>\n",
       "      <td>NaN</td>\n",
       "      <td>NaN</td>\n",
       "      <td>NaN</td>\n",
       "      <td>NaN</td>\n",
       "      <td>NaN</td>\n",
       "    </tr>\n",
       "    <tr>\n",
       "      <th>4</th>\n",
       "      <td>NaN</td>\n",
       "      <td>Jul. 2023</td>\n",
       "      <td>Aug. 2023</td>\n",
       "      <td>Sept. 2023</td>\n",
       "      <td>Year to Date</td>\n",
       "      <td>NaN</td>\n",
       "      <td>NaN</td>\n",
       "      <td>NaN</td>\n",
       "    </tr>\n",
       "  </tbody>\n",
       "</table>\n",
       "</div>"
      ],
      "text/plain": [
       "                                      Unnamed: 0 Unnamed: 1 Unnamed: 2  \\\n",
       "0                        BJ WIN HOSPITALITY INC.        NaN        NaN   \n",
       "1                                Profit and Loss        NaN        NaN   \n",
       "2  For the Nine Months Ending September 30, 2023        NaN        NaN   \n",
       "3                                            NaN        NaN        NaN   \n",
       "4                                            NaN  Jul. 2023  Aug. 2023   \n",
       "\n",
       "   Unnamed: 3    Unnamed: 4  Unnamed: 5  Unnamed: 6  Unnamed: 7  \n",
       "0         NaN           NaN         NaN         NaN         NaN  \n",
       "1         NaN           NaN         NaN         NaN         NaN  \n",
       "2         NaN           NaN         NaN         NaN         NaN  \n",
       "3         NaN           NaN         NaN         NaN         NaN  \n",
       "4  Sept. 2023  Year to Date         NaN         NaN         NaN  "
      ]
     },
     "execution_count": 68,
     "metadata": {},
     "output_type": "execute_result"
    }
   ],
   "source": [
    "df.head()"
   ]
  },
  {
   "cell_type": "code",
   "execution_count": 69,
   "id": "001576c3-00e8-45e2-8dce-e0f22a9d16c7",
   "metadata": {},
   "outputs": [],
   "source": [
    "cols_to_remove = ['Unnamed: 4', 'Unnamed: 5', 'Unnamed: 6', 'Unnamed: 7']\n",
    "df = df.drop(columns = cols_to_remove)"
   ]
  },
  {
   "cell_type": "code",
   "execution_count": 70,
   "id": "8cef7ce2-b40c-464f-93c9-b01d656d8172",
   "metadata": {},
   "outputs": [],
   "source": [
    "first_month = df.loc[4, 'Unnamed: 1']\n",
    "second_month = df.loc[4, 'Unnamed: 2']\n",
    "third_month = df.loc[4, 'Unnamed: 3']\n",
    "modcols = {\n",
    "    'Unnamed: 0' : 'metric_type',\n",
    "    'Unnamed: 1' : first_month,\n",
    "    'Unnamed: 2' : second_month,\n",
    "    'Unnamed: 3' : third_month,\n",
    "}\n",
    "\n",
    "df = df.rename(columns = modcols)"
   ]
  },
  {
   "cell_type": "code",
   "execution_count": null,
   "id": "5f82454f-caa1-458f-b327-4eacb62b1a30",
   "metadata": {},
   "outputs": [],
   "source": [
    "def define_quarters(first_month, second_month, third_month):\n",
    "    if first_month == 'January' and second_month == 'February' and third_month == 'March':\n",
    "        return 'Q1"
   ]
  },
  {
   "cell_type": "code",
   "execution_count": 71,
   "id": "3f81d6ce-8c6e-4803-ab23-3997691680d8",
   "metadata": {},
   "outputs": [
    {
     "data": {
      "text/html": [
       "<div>\n",
       "<style scoped>\n",
       "    .dataframe tbody tr th:only-of-type {\n",
       "        vertical-align: middle;\n",
       "    }\n",
       "\n",
       "    .dataframe tbody tr th {\n",
       "        vertical-align: top;\n",
       "    }\n",
       "\n",
       "    .dataframe thead th {\n",
       "        text-align: right;\n",
       "    }\n",
       "</style>\n",
       "<table border=\"1\" class=\"dataframe\">\n",
       "  <thead>\n",
       "    <tr style=\"text-align: right;\">\n",
       "      <th></th>\n",
       "      <th>metric_type</th>\n",
       "      <th>Jul. 2023</th>\n",
       "      <th>Aug. 2023</th>\n",
       "      <th>Sept. 2023</th>\n",
       "    </tr>\n",
       "  </thead>\n",
       "  <tbody>\n",
       "    <tr>\n",
       "      <th>0</th>\n",
       "      <td>BJ WIN HOSPITALITY INC.</td>\n",
       "      <td>NaN</td>\n",
       "      <td>NaN</td>\n",
       "      <td>NaN</td>\n",
       "    </tr>\n",
       "    <tr>\n",
       "      <th>1</th>\n",
       "      <td>Profit and Loss</td>\n",
       "      <td>NaN</td>\n",
       "      <td>NaN</td>\n",
       "      <td>NaN</td>\n",
       "    </tr>\n",
       "    <tr>\n",
       "      <th>2</th>\n",
       "      <td>For the Nine Months Ending September 30, 2023</td>\n",
       "      <td>NaN</td>\n",
       "      <td>NaN</td>\n",
       "      <td>NaN</td>\n",
       "    </tr>\n",
       "    <tr>\n",
       "      <th>3</th>\n",
       "      <td>NaN</td>\n",
       "      <td>NaN</td>\n",
       "      <td>NaN</td>\n",
       "      <td>NaN</td>\n",
       "    </tr>\n",
       "    <tr>\n",
       "      <th>4</th>\n",
       "      <td>NaN</td>\n",
       "      <td>Jul. 2023</td>\n",
       "      <td>Aug. 2023</td>\n",
       "      <td>Sept. 2023</td>\n",
       "    </tr>\n",
       "  </tbody>\n",
       "</table>\n",
       "</div>"
      ],
      "text/plain": [
       "                                     metric_type  Jul. 2023  Aug. 2023  \\\n",
       "0                        BJ WIN HOSPITALITY INC.        NaN        NaN   \n",
       "1                                Profit and Loss        NaN        NaN   \n",
       "2  For the Nine Months Ending September 30, 2023        NaN        NaN   \n",
       "3                                            NaN        NaN        NaN   \n",
       "4                                            NaN  Jul. 2023  Aug. 2023   \n",
       "\n",
       "   Sept. 2023  \n",
       "0         NaN  \n",
       "1         NaN  \n",
       "2         NaN  \n",
       "3         NaN  \n",
       "4  Sept. 2023  "
      ]
     },
     "execution_count": 71,
     "metadata": {},
     "output_type": "execute_result"
    }
   ],
   "source": [
    "df.head()"
   ]
  },
  {
   "cell_type": "code",
   "execution_count": 72,
   "id": "00b7b086-d7b4-4503-b64d-f84c49c8edc0",
   "metadata": {},
   "outputs": [],
   "source": [
    "df = df.dropna(axis=0)\n",
    "df = df.reset_index(drop=True)"
   ]
  },
  {
   "cell_type": "code",
   "execution_count": 73,
   "id": "cc061913-75d5-4462-9cbd-72d5e747fa90",
   "metadata": {},
   "outputs": [],
   "source": [
    "# with pd.option_context('display.max_rows', None,\n",
    "#                        'display.max_columns', None,\n",
    "#                        'display.precision', 3,\n",
    "#                        ):\n",
    "#     print(df)"
   ]
  },
  {
   "cell_type": "code",
   "execution_count": 74,
   "id": "80818f5f-8e4f-427d-ac3c-4424747760fd",
   "metadata": {},
   "outputs": [],
   "source": [
    "df.iloc[39, df.columns.get_loc('metric_type')] = 'PAYROLL TAXES ADMIN'"
   ]
  },
  {
   "cell_type": "code",
   "execution_count": 75,
   "id": "cd4873a2-f8ca-449f-9f70-93a4042b2b44",
   "metadata": {},
   "outputs": [],
   "source": [
    "df.iloc[:, 1:4] = df.iloc[:, 1:4].applymap(lambda x: x.replace('(', '-').replace(')','') if isinstance(x, str) else x)\n",
    "df.iloc[:, 1:4] = df.iloc[:, 1:4].applymap(lambda x: x.replace('$', '').replace(',', '') if isinstance(x, str) else x)\n",
    "df.iloc[:, 1:4] = df.iloc[:, 1:4].astype(float)"
   ]
  },
  {
   "cell_type": "code",
   "execution_count": 77,
   "id": "c9922a35-cb0e-4431-9b3a-44c543e36043",
   "metadata": {},
   "outputs": [
    {
     "name": "stdout",
     "output_type": "stream",
     "text": [
      "                    metric_type  Jul. 2023  Aug. 2023 Sept. 2023\n",
      "0           MEETING ROOM RENTAL     7325.0     5425.0    8419.68\n",
      "1                   ROOM RENTAL  314940.99  361154.62  344036.08\n",
      "2          MISCELLANEOUS INCOME     188.37        0.0        0.0\n",
      "3                        REFUND        0.0      -58.9        0.0\n",
      "4                Total Revenues  322454.36  366520.72  352455.76\n",
      "5              FRONT DESK CLERK   14461.92   18898.57   13120.52\n",
      "6                   HOUSEKEEPER    32923.0   45085.46   32517.71\n",
      "7               CAFE ATTENDANTS    7098.01   10582.38    7045.26\n",
      "8                 PAYROLL TAXES    4318.18    5865.55     4131.9\n",
      "9        WORKERS COMP INSURANCE    4953.27    4953.27    4953.27\n",
      "10               LINEN PURCHASE        0.0        0.0    2168.12\n",
      "11               GUEST SUPPLIES    2409.75    4898.18    7300.31\n",
      "12             LAUNDRY SUPPLIES        0.0    3040.31    2183.47\n",
      "13     COMMISSION TRAVEL AGENTS    20135.7   14016.25   16150.85\n",
      "14        CONTINENTAL BREAKFAST   11671.25    8969.05   17044.44\n",
      "15          FRANCHISE ROYALTIES    6405.55   12664.38    6405.55\n",
      "16                   REWARD FEE    5358.79    9853.11    7348.06\n",
      "17      CREDIT CARD COMMISSIONS   10114.49     9593.6    9140.36\n",
      "18        MAINTENANCE  SALARIES    2409.75    5759.25     3958.5\n",
      "19  PAYROLL TAXES - Maintenance     184.34     440.58     302.82\n",
      "20                 PEST CONTROL     2205.0        0.0      630.0\n",
      "21   EQUIPMENT REPAIR - GENERAL        0.0     1164.0      300.0\n",
      "22                FIRE & SAFETY        0.0        0.0        0.0\n",
      "23                SWIMMING POOL      510.0      760.0      605.0\n",
      "24     MAINTENANCE & SERV AGRMT    1114.56     614.56     294.56\n",
      "25             SECURITY EXPENSE      67.94      67.94      67.94\n",
      "26                     PLUMBING        0.0        0.0    1025.61\n",
      "27                    ELEVATORS        0.0        0.0    1599.36\n",
      "28         LANDSCAPING/EXTERIOR    10650.0      650.0     3000.0\n",
      "29        TRASH & WASTE REMOVAL    1430.44    1529.92    1529.92\n",
      "30         MAINTENANCE SUPPLIES    1433.68    2383.43    2938.53\n",
      "31  MISCELLANEOUS - MAINTENANCE        0.0      434.0      435.0\n",
      "32                        WATER    2362.35    2172.11    2297.77\n",
      "33                          GAS    3060.05    3046.73    2586.56\n",
      "34                  ELECTRICITY   16108.89   21948.59    21489.8\n",
      "35          Total Cost of Sales  161386.91  189391.22  172571.19\n",
      "36                 Gross Profit  161067.45   177129.5  179884.57\n",
      "37            OFFICERS SALARIES   21666.68   21666.68   21666.68\n",
      "38      ADMINISTRATIVE SALARIES   19268.27    20247.9   18703.33\n",
      "39          PAYROLL TAXES ADMIN    3131.51    3206.45     3088.3\n",
      "40         COMMERCIAL INSURANCE        0.0     2370.0        0.0\n",
      "41              OFFICE SUPPLIES     694.38     275.61     756.77\n",
      "42             LICENSES/PERMITS       57.0      675.0     1125.0\n",
      "43          EDUCATION & SEMINAR        0.0      843.0        0.0\n",
      "44           TEMPORARY EMPLOYEE        0.0        0.0        0.0\n",
      "45               TRAVEL EXPENSE     355.12   17866.78      136.0\n",
      "46                ENTERTAINMENT    2091.84    3054.95    2288.78\n",
      "47                    TELEPHONE     592.69    1555.04    1567.73\n",
      "48          INTERNET & COMPUTER   11676.87    9096.43    7773.84\n",
      "49         EMPLOYEE RECRUITMENT     416.56        0.0        0.0\n",
      "50         PAYROLL SERVICE FEES     596.83     837.56    1248.26\n",
      "51         BANK SERVICE CHARGES       36.0      137.0       34.0\n",
      "52         MEMBERSHIP DUES/FEES    2819.63     1020.0      790.0\n",
      "53               MANAGEMENT FEE    60000.0        0.0    50000.0\n",
      "54        GASOLINE/AUTO EXPENSE     318.67     443.49     425.18\n",
      "55               PROPERTY TAXES        0.0   10950.36        0.0\n",
      "56    LEGAL & PROFESSIONAL FEES     6920.0        0.0        0.0\n",
      "57                     DONATION        0.0        0.0        0.0\n",
      "58                  OTHER TAXES        0.0        0.0        0.0\n",
      "59             BUILDING REPAIRS     1000.0        0.0        0.0\n",
      "60  ADVERTISING - NEWSPAPER/MAG    1952.79    2552.79    1952.79\n",
      "61          PROMOTION - GENERAL        0.0      740.0        0.0\n",
      "62               AUTO INSURANCE     652.66     652.66    3936.54\n",
      "63           BUILDING INSURANCE    1963.08        0.0        0.0\n",
      "64          RENOVATION EXPENSES        0.0        0.0        0.0\n",
      "65             INTEREST EXPENSE        0.0        0.0        0.0\n",
      "66               Total Expenses  136210.58    98191.7   115493.2\n",
      "67              INTEREST INCOME     335.03     281.21     210.77\n",
      "68          Total Others Income     335.03     281.21     210.77\n",
      "69                   Net Income    25191.9   79219.01   64602.14\n"
     ]
    }
   ],
   "source": [
    "with pd.option_context('display.max_rows', None,\n",
    "                       'display.max_columns', None,\n",
    "                       'display.precision', 3,\n",
    "                       ):\n",
    "    print(df)"
   ]
  },
  {
   "cell_type": "code",
   "execution_count": 81,
   "id": "1daebde1-c60d-4a07-a4c8-70fe7a994768",
   "metadata": {},
   "outputs": [
    {
     "name": "stdout",
     "output_type": "stream",
     "text": [
      "                metric_type  Jul. 2023  Aug. 2023 Sept. 2023\n",
      "35      total cost of sales  161386.91  189391.22  172571.19\n",
      "37        officers salaries   21666.68   21666.68   21666.68\n",
      "38  administrative salaries   19268.27    20247.9   18703.33\n",
      "39      payroll taxes admin    3131.51    3206.45     3088.3\n",
      "40     commercial insurance        0.0     2370.0        0.0\n",
      "47                telephone     592.69    1555.04    1567.73\n",
      "48      internet & computer   11676.87    9096.43    7773.84\n",
      "55           property taxes        0.0   10950.36        0.0\n",
      "62           auto insurance     652.66     652.66    3936.54\n"
     ]
    }
   ],
   "source": [
    "rows_to_sum = ['Total Cost Of Sales', 'OFFICERS SALARIES', 'ADMINISTRATIVE SALARIES', 'PAYROLL TAXES ADMIN', 'COMMERCIAL INSURANCE', \n",
    "               'TELEPHONE', 'INTERNET & COMPUTER', 'PROPERTY TAXES', 'AUTO INSURANCE']\n",
    "df['metric_type'] = df['metric_type'].str.lower().str.strip()\n",
    "rows_to_sum = [row.lower().strip() for row in rows_to_sum]\n",
    "temp = df['metric_type'].isin(rows_to_sum)\n",
    "selectRows = df[temp]\n",
    "print(selectRows)"
   ]
  },
  {
   "cell_type": "code",
   "execution_count": 89,
   "id": "2a88dbf1-1a37-408c-adca-bc7abe98bc25",
   "metadata": {},
   "outputs": [],
   "source": [
    "month_totals = selectRows.iloc[:, 1:4].sum()\n",
    "# print(month_totals)\n",
    "total_q3_cost = month_totals.sum()"
   ]
  },
  {
   "cell_type": "code",
   "execution_count": 90,
   "id": "553107c7-7d64-4499-8fa4-383ceb73ba44",
   "metadata": {},
   "outputs": [
    {
     "name": "stdout",
     "output_type": "stream",
     "text": [
      "706819.9400000001\n"
     ]
    }
   ],
   "source": [
    "print(total_q3_cost)"
   ]
  },
  {
   "cell_type": "code",
   "execution_count": 92,
   "id": "db4926fe-0d8c-4566-91dc-f80974112987",
   "metadata": {},
   "outputs": [
    {
     "name": "stdin",
     "output_type": "stream",
     "text": [
      "How many rooms sold? 8690\n"
     ]
    },
    {
     "ename": "NameError",
     "evalue": "name 'date_range' is not defined",
     "output_type": "error",
     "traceback": [
      "\u001b[0;31m---------------------------------------------------------------------------\u001b[0m",
      "\u001b[0;31mNameError\u001b[0m                                 Traceback (most recent call last)",
      "Cell \u001b[0;32mIn[92], line 5\u001b[0m\n\u001b[1;32m      2\u001b[0m \u001b[38;5;66;03m# retrieve total rooms sold from VM or NA reports\u001b[39;00m\n\u001b[1;32m      3\u001b[0m \u001b[38;5;66;03m# e.g: Q3 total rooms = 2974+2863+2853\u001b[39;00m\n\u001b[1;32m      4\u001b[0m cPORCurrYr \u001b[38;5;241m=\u001b[39m total_q3_cost\u001b[38;5;241m/\u001b[39m\u001b[38;5;28mint\u001b[39m(roomsSold)\n\u001b[0;32m----> 5\u001b[0m \u001b[38;5;28mprint\u001b[39m(\u001b[38;5;124mf\u001b[39m\u001b[38;5;124m\"\u001b[39m\u001b[38;5;132;01m{\u001b[39;00m\u001b[43mdate_range\u001b[49m\u001b[38;5;132;01m}\u001b[39;00m\u001b[38;5;124m: $\u001b[39m\u001b[38;5;132;01m{\u001b[39;00m\u001b[38;5;28mround\u001b[39m(cPORCurrYr,\u001b[38;5;250m \u001b[39m\u001b[38;5;241m2\u001b[39m)\u001b[38;5;132;01m}\u001b[39;00m\u001b[38;5;124m\"\u001b[39m)\n",
      "\u001b[0;31mNameError\u001b[0m: name 'date_range' is not defined"
     ]
    }
   ],
   "source": [
    "roomsSold = input(\"How many rooms sold?\")\n",
    "# retrieve total rooms sold from VM or NA reports\n",
    "# e.g: Q3 total rooms = 2974+2863+2853\n",
    "cPORCurrYr = total_q3_cost/int(roomsSold)\n",
    "print(f\"{date_range}: ${round(cPORCurrYr, 2)}\")"
   ]
  },
  {
   "cell_type": "code",
   "execution_count": null,
   "id": "86532f73-c447-4e83-b565-846929a70264",
   "metadata": {},
   "outputs": [],
   "source": []
  }
 ],
 "metadata": {
  "kernelspec": {
   "display_name": "Python 3 (ipykernel)",
   "language": "python",
   "name": "python3"
  },
  "language_info": {
   "codemirror_mode": {
    "name": "ipython",
    "version": 3
   },
   "file_extension": ".py",
   "mimetype": "text/x-python",
   "name": "python",
   "nbconvert_exporter": "python",
   "pygments_lexer": "ipython3",
   "version": "3.10.5"
  }
 },
 "nbformat": 4,
 "nbformat_minor": 5
}
